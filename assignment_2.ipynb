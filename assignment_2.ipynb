{
 "cells": [
  {
   "cell_type": "code",
   "execution_count": null,
   "metadata": {},
   "outputs": [],
   "source": [
    "################################################################################\n",
    "# Author 1:      Firstname Lastname\n",
    "# MatNr 1:       01234567\n",
    "# Author 2:      Firstname Lastname\n",
    "# MatNr 2:       01234567\n",
    "# Author 3:      Jakob Marktl\n",
    "# MatNr 3:       12335939\n",
    "# File:          assignment2.ipynb\n",
    "# Description: ... short description of the file ...\n",
    "# Comments:    ... comments for the tutors ...\n",
    "#              ... can be multiline ...\n",
    "################################################################################"
   ]
  },
  {
   "cell_type": "code",
   "execution_count": 2,
   "metadata": {},
   "outputs": [],
   "source": [
    "import pandas as pd\n",
    "import matplotlib.pyplot as plt\n",
    "import plotly.express as px\n",
    "import numpy as np\n",
    "import pycountry\n",
    "import pycountry_convert"
   ]
  },
  {
   "cell_type": "markdown",
   "metadata": {},
   "source": [
    "Alles in einem File, programmieren\n",
    "\n",
    "Robert:"
   ]
  },
  {
   "cell_type": "code",
   "execution_count": null,
   "metadata": {},
   "outputs": [],
   "source": []
  },
  {
   "cell_type": "markdown",
   "metadata": {},
   "source": [
    "David:"
   ]
  },
  {
   "cell_type": "code",
   "execution_count": 1,
   "metadata": {},
   "outputs": [
    {
     "name": "stdout",
     "output_type": "stream",
     "text": [
      "David hat was gemacht\n"
     ]
    }
   ],
   "source": [
    "print(\"David hat was gemacht\")"
   ]
  },
  {
   "cell_type": "markdown",
   "metadata": {},
   "source": [
    "Jakob:"
   ]
  },
  {
   "cell_type": "code",
   "execution_count": 39,
   "metadata": {},
   "outputs": [
    {
     "name": "stdout",
     "output_type": "stream",
     "text": [
      "['Argentina', 'Argentina', 'Argentina', 'Argentina', 'Argentina', 'Argentina', 'Argentina', 'Argentina', 'Argentina', 'Argentina', 'Argentina', 'Australia', 'Australia', 'Australia', 'Australia', 'Australia', 'Australia', 'Australia', 'Australia', 'Australia', 'Australia', 'Australia', 'Austria', 'Austria', 'Austria', 'Austria', 'Austria', 'Austria', 'Austria', 'Austria', 'Belgium', 'Belgium', 'Belgium', 'Belgium', 'Belgium', 'Belgium', 'Belgium', 'Belgium', 'Belgium', 'Belgium', 'Belgium', 'Brazil', 'Brazil', 'Brazil', 'Brazil', 'Brazil', 'Brazil', 'Brazil', 'Brazil', 'Brazil', 'Brazil', 'Brazil', 'Canada', 'Canada', 'Canada', 'Canada', 'Canada', 'Canada', 'Canada', 'Canada', 'Canada', 'Canada', 'Canada', 'Chile', 'Chile', 'Chile', 'Chile', 'Chile', 'Chile', 'Chile', 'Chile', 'Chile', 'Chile', 'Chile', 'China (People’s Republic of)', 'China (People’s Republic of)', 'China (People’s Republic of)', 'China (People’s Republic of)', 'China (People’s Republic of)', 'China (People’s Republic of)', 'China (People’s Republic of)', 'China (People’s Republic of)', 'China (People’s Republic of)', 'China (People’s Republic of)', 'China (People’s Republic of)', 'Chinese Taipei', 'Chinese Taipei', 'Chinese Taipei', 'Chinese Taipei', 'Chinese Taipei', 'Chinese Taipei', 'Chinese Taipei', 'Chinese Taipei', 'Chinese Taipei', 'Chinese Taipei', 'Chinese Taipei', 'Colombia', 'Colombia', 'Colombia', 'Colombia', 'Colombia', 'Colombia', 'Colombia', 'Colombia', 'Colombia', 'Colombia', 'Colombia', 'Costa Rica', 'Costa Rica', 'Costa Rica', 'Costa Rica', 'Costa Rica', 'Costa Rica', 'Costa Rica', 'Costa Rica', 'Costa Rica', 'Costa Rica', 'Costa Rica', 'Denmark', 'Denmark', 'Denmark', 'Denmark', 'Denmark', 'Denmark', 'Denmark', 'Denmark', 'Denmark', 'Denmark', 'Denmark', 'Estonia', 'Estonia', 'Estonia', 'Estonia', 'Estonia', 'Estonia', 'Estonia', 'Estonia', 'Estonia', 'Estonia', 'Estonia', 'Finland', 'Finland', 'Finland', 'Finland', 'Finland', 'Finland', 'Finland', 'Finland', 'Finland', 'Finland', 'Finland', 'France', 'France', 'France', 'France', 'France', 'France', 'France', 'France', 'France', 'France', 'France', 'Germany', 'Germany', 'Germany', 'Germany', 'Germany', 'Germany', 'Germany', 'Germany', 'Germany', 'Germany', 'Germany', 'Greece', 'Greece', 'Greece', 'Greece', 'Greece', 'Greece', 'Greece', 'Greece', 'Greece', 'Greece', 'Greece', 'Iceland', 'Iceland', 'Iceland', 'Iceland', 'Iceland', 'Iceland', 'Iceland', 'Iceland', 'Iceland', 'Indonesia', 'Indonesia', 'Indonesia', 'Indonesia', 'Indonesia', 'Indonesia', 'Indonesia', 'Indonesia', 'Indonesia', 'Ireland', 'Ireland', 'Ireland', 'Ireland', 'Ireland', 'Ireland', 'Ireland', 'Ireland', 'Ireland', 'Ireland', 'Ireland', 'Italy', 'Italy', 'Italy', 'Italy', 'Italy', 'Italy', 'Italy', 'Italy', 'Italy', 'Italy', 'Italy', 'Japan', 'Japan', 'Japan', 'Japan', 'Japan', 'Japan', 'Japan', 'Japan', 'Japan', 'Japan', 'Japan', 'Korea', 'Korea', 'Korea', 'Korea', 'Korea', 'Korea', 'Korea', 'Korea', 'Korea', 'Korea', 'Korea', 'Latvia', 'Latvia', 'Latvia', 'Latvia', 'Latvia', 'Latvia', 'Latvia', 'Latvia', 'Latvia', 'Latvia', 'Latvia', 'Lithuania', 'Lithuania', 'Lithuania', 'Lithuania', 'Lithuania', 'Lithuania', 'Lithuania', 'Lithuania', 'Lithuania', 'Lithuania', 'Lithuania', 'Mexico', 'Mexico', 'Mexico', 'Mexico', 'Mexico', 'Mexico', 'Mexico', 'Mexico', 'Mexico', 'Mexico', 'Mexico', 'Netherlands', 'Netherlands', 'Netherlands', 'Netherlands', 'Netherlands', 'Netherlands', 'Netherlands', 'Netherlands', 'Netherlands', 'Netherlands', 'Netherlands', 'New Zealand', 'New Zealand', 'New Zealand', 'New Zealand', 'New Zealand', 'New Zealand', 'New Zealand', 'New Zealand', 'New Zealand', 'New Zealand', 'New Zealand', 'Norway', 'Norway', 'Norway', 'Norway', 'Norway', 'Norway', 'Norway', 'Norway', 'Norway', 'Norway', 'Norway', 'Peru', 'Poland', 'Poland', 'Poland', 'Poland', 'Poland', 'Poland', 'Poland', 'Poland', 'Poland', 'Poland', 'Poland', 'Portugal', 'Portugal', 'Portugal', 'Portugal', 'Portugal', 'Portugal', 'Portugal', 'Portugal', 'Portugal', 'Portugal', 'Portugal', 'Slovenia', 'Slovenia', 'Slovenia', 'Slovenia', 'Slovenia', 'Slovenia', 'Slovenia', 'Slovenia', 'Slovenia', 'Slovenia', 'Slovenia', 'Spain', 'Spain', 'Spain', 'Spain', 'Spain', 'Spain', 'Spain', 'Spain', 'Spain', 'Spain', 'Spain', 'Sweden', 'Sweden', 'Sweden', 'Sweden', 'Sweden', 'Sweden', 'Sweden', 'Sweden', 'Sweden', 'Sweden', 'Sweden', 'Thailand', 'Thailand', 'Thailand', 'Thailand', 'Thailand', 'Thailand', 'Türkiye', 'Türkiye', 'Türkiye', 'Türkiye', 'Türkiye', 'Türkiye', 'Türkiye', 'Türkiye', 'Türkiye', 'Türkiye', 'Türkiye', 'United Kingdom', 'United Kingdom', 'United Kingdom', 'United Kingdom', 'United Kingdom', 'United Kingdom', 'United Kingdom', 'United Kingdom', 'United Kingdom', 'United Kingdom', 'United Kingdom', 'United States', 'United States', 'United States', 'United States', 'United States', 'United States', 'United States', 'United States', 'United States', 'United States', 'United States', 'Viet Nam', 'Viet Nam', 'Viet Nam', 'Viet Nam', 'Viet Nam', 'Viet Nam', 'Viet Nam', 'Viet Nam'] [2016, 2020, 2017, 2015, 2014, 2013, 2012, 2011, 2018, 2010, 2019, 2011, 2010, 2020, 2019, 2018, 2012, 2016, 2015, 2014, 2017, 2013, 2011, 2012, 2010, 2013, 2015, 2016, 2017, 2014, 2017, 2016, 2015, 2014, 2013, 2012, 2011, 2010, 2018, 2019, 2020, 2011, 2012, 2014, 2015, 2016, 2017, 2018, 2019, 2020, 2010, 2013, 2017, 2020, 2019, 2010, 2011, 2012, 2018, 2014, 2015, 2016, 2013, 2019, 2020, 2017, 2016, 2015, 2013, 2012, 2011, 2010, 2018, 2014, 2011, 2020, 2019, 2018, 2017, 2016, 2015, 2014, 2013, 2012, 2010, 2020, 2010, 2011, 2012, 2013, 2018, 2014, 2015, 2016, 2017, 2019, 2010, 2011, 2020, 2012, 2013, 2014, 2015, 2016, 2017, 2019, 2018, 2013, 2015, 2019, 2020, 2010, 2014, 2012, 2011, 2017, 2018, 2016, 2011, 2018, 2019, 2010, 2014, 2015, 2017, 2020, 2016, 2013, 2012, 2020, 2019, 2018, 2017, 2016, 2015, 2014, 2012, 2011, 2010, 2013, 2019, 2010, 2020, 2012, 2013, 2014, 2011, 2016, 2017, 2018, 2015, 2016, 2010, 2011, 2012, 2013, 2014, 2015, 2018, 2017, 2020, 2019, 2010, 2011, 2012, 2013, 2014, 2015, 2016, 2017, 2018, 2020, 2019, 2020, 2015, 2019, 2014, 2013, 2012, 2010, 2011, 2016, 2017, 2018, 2015, 2011, 2010, 2013, 2014, 2012, 2016, 2017, 2018, 2013, 2018, 2014, 2010, 2015, 2012, 2017, 2016, 2011, 2010, 2020, 2019, 2015, 2014, 2013, 2012, 2017, 2016, 2018, 2011, 2010, 2020, 2019, 2018, 2017, 2016, 2015, 2012, 2013, 2014, 2011, 2020, 2019, 2018, 2016, 2015, 2013, 2012, 2011, 2010, 2017, 2014, 2019, 2018, 2020, 2017, 2016, 2015, 2014, 2013, 2010, 2011, 2012, 2017, 2020, 2016, 2012, 2014, 2019, 2013, 2011, 2010, 2015, 2018, 2011, 2020, 2010, 2012, 2019, 2018, 2017, 2016, 2015, 2014, 2013, 2010, 2011, 2012, 2013, 2014, 2016, 2017, 2018, 2019, 2020, 2015, 2019, 2018, 2020, 2011, 2010, 2017, 2015, 2014, 2013, 2012, 2016, 2018, 2019, 2020, 2015, 2016, 2012, 2017, 2011, 2010, 2014, 2013, 2011, 2012, 2013, 2014, 2019, 2018, 2017, 2016, 2015, 2010, 2020, 2021, 2012, 2016, 2015, 2014, 2013, 2011, 2010, 2017, 2018, 2019, 2020, 2016, 2011, 2018, 2019, 2020, 2015, 2014, 2010, 2017, 2013, 2012, 2016, 2018, 2019, 2020, 2012, 2014, 2013, 2017, 2015, 2011, 2010, 2018, 2017, 2016, 2015, 2020, 2014, 2019, 2012, 2011, 2010, 2013, 2016, 2015, 2018, 2019, 2020, 2017, 2013, 2014, 2010, 2011, 2012, 2010, 2011, 2012, 2013, 2015, 2014, 2013, 2014, 2012, 2011, 2019, 2018, 2020, 2016, 2015, 2010, 2017, 2015, 2019, 2018, 2017, 2020, 2014, 2013, 2012, 2011, 2010, 2016, 2019, 2018, 2011, 2017, 2016, 2020, 2015, 2014, 2013, 2010, 2012, 2012, 2017, 2016, 2015, 2010, 2011, 2013, 2014] [925.0, 859.0, 804.0, 938.0, 911.0, 902.0, 1017.0, 896.0, 903.0, 1090.0, 874.0, 325.0, 318.0, 302.0, 294.0, 285.0, 318.0, 290.0, 298.0, 309.0, 315.0, 306.0, 180.0, 180.0, 190.0, 180.0, 180.0, 180.0, 180.0, 180.0, 70.0, 72.0, 76.0, 79.0, 80.0, 83.0, 86.0, 89.0, 68.0, 68.0, 64.0, 2261.0, 4012.0, 10738.0, 14064.0, 17658.0, 19535.0, 21412.0, 22469.0, 24892.0, 1326.0, 8420.0, 17522.0, 16891.0, 16911.0, 19906.0, 19520.0, 18740.0, 18430.0, 18189.0, 17856.0, 17703.0, 18452.0, 8872.0, 8350.0, 9622.0, 9540.0, 9391.0, 8644.0, 9603.0, 8568.0, 7815.0, 9563.0, 7154.0, 1069577.0, 563262.0, 731169.0, 863892.0, 946160.0, 1011071.0, 1042489.0, 1065319.0, 1071664.0, 1069910.0, 1065645.0, 21772.0, 23782.0, 23557.0, 23441.0, 23012.0, 21908.0, 22771.0, 22695.0, 22567.0, 22433.0, 21689.0, 158.0, 143.0, 46.0, 135.0, 134.0, 134.0, 133.0, 175.0, 124.0, 118.0, 120.0, 1552.0, 1912.0, 2715.0, 2803.0, 5035.0, 1703.0, 1345.0, 3771.0, 2644.0, 3155.0, 1574.0, 2783.0, 2123.0, 2077.0, 2820.0, 2447.0, 2356.0, 2198.0, 2033.0, 2261.0, 2625.0, 2739.0, 1828.0, 1742.0, 1665.0, 1595.0, 1557.0, 1538.0, 1515.0, 1360.0, 923.0, 934.0, 1445.0, 3207.0, 3366.0, 3137.0, 3241.0, 3211.0, 3179.0, 3332.0, 3093.0, 3224.0, 3245.0, 2723.0, 6833.0, 7216.0, 7205.0, 7138.0, 7120.0, 7066.0, 6904.0, 6373.0, 6509.0, 6224.0, 6237.0, 1673.0, 1582.0, 1550.0, 1532.0, 1491.0, 1443.0, 1414.0, 1377.0, 1331.0, 1292.0, 1309.0, 14625.0, 15351.0, 14694.0, 15603.0, 15683.0, 15854.0, 16913.0, 16403.0, 15176.0, 14982.0, 14745.0, 1312.0, 1421.0, 1375.0, 1427.0, 1370.0, 1449.0, 1279.0, 1216.0, 1148.0, 829512.0, 719769.0, 815544.0, 739932.0, 768123.0, 808775.0, 728656.0632, 726984.0, 767187.0, 2144.0, 2033.0, 2039.0, 2141.0, 2157.0, 2193.0, 2246.0, 2022.0, 2114.0, 2035.0, 2187.0, 13431.0, 12152.0, 12125.0, 12102.0, 12252.0, 12260.0, 12300.0, 12696.0, 12593.0, 12435.0, 13023.0, 219485.0, 225276.0, 230504.0, 244569.0, 250817.0, 262742.0, 269736.0, 268679.0, 292822.0, 237503.0, 257045.0, 65835.0, 65906.0, 65744.0, 66736.0, 66970.0, 67226.0, 68417.0, 71287.0, 76974.0, 75629.0, 75031.0, 675.0, 663.0, 686.0, 715.0, 700.0, 663.0, 703.0, 731.0, 786.0, 686.0, 671.0, 151.0, 139.0, 171.0, 146.0, 138.0, 143.0, 144.0, 142.0, 145.0, 142.0, 144.0, 94111.0, 82069.0, 71654.0, 76096.0, 75741.0, 75997.0, 76306.0, 77483.0, 76879.0, 76842.0, 76285.0, 836.0, 832.0, 834.0, 841.0, 846.0, 849.0, 829.0, 830.0, 845.0, 848.0, 844.0, 1168.0, 1140.0, 1060.0, 1324.0, 1254.0, 1417.0, 1221.0, 1416.0, 1401.0, 1334.0, 1367.0, 6250.0, 6211.0, 6126.0, 5939.0, 5982.0, 6018.0, 6134.0, 5947.0, 5884.0, 6310.0, 5839.0, 15827.0, 798.0, 843.0, 875.0, 873.0, 838.0, 790.0, 793.0, 834.0, 827.0, 826.0, 822.0, 7955.0, 8333.0, 7834.0, 7757.0, 7714.0, 8035.0, 8157.0, 8425.0, 7907.0, 8200.0, 8245.0, 170.0, 134.0, 137.0, 136.0, 174.0, 169.0, 170.0, 170.0, 168.0, 182.0, 182.0, 8973.0, 9145.0, 9244.0, 9397.0, 8839.0, 9632.0, 8883.0, 10121.0, 10510.0, 10855.0, 9873.0, 1277.0, 1318.0, 1199.0, 1136.0, 1136.0, 1230.0, 1368.0, 1359.0, 1360.0, 1369.0, 1389.0, 15381.0, 17203.0, 18089.0, 16548.0, 25231.0, 23556.0, 16437.0, 15877.0, 16998.0, 17165.0, 15315.0, 15352.0, 15302.0, 15663.0, 15680.0, 17440.0, 15406.0, 6232.0, 5964.0, 6046.0, 6151.0, 5824.0, 6276.0, 6303.0, 6360.0, 6389.0, 6460.0, 6197.0, 75231.0, 75231.0, 77695.0, 75231.0, 75231.0, 75231.0, 75231.0, 75862.0, 77695.0, 77695.0, 77695.0, 124568.0, 109586.0, 110950.0, 109356.0, 128538.0, 127784.0, 118789.0, 112939.0]\n"
     ]
    },
    {
     "data": {
      "image/png": "[encoded data removed]",
      "text/plain": [
       "<Figure size 1000x600 with 1 Axes>"
      ]
     },
     "metadata": {},
     "output_type": "display_data"
    },
    {
     "data": {
      "application/vnd.plotly.v1+json": {
       "config": {
        "plotlyServerURL": "https://plot.ly"
       },
       "data": [
        {
         "hovertemplate": "Country=%{x}<br>Absolute Value=%{y}<extra></extra>",
         "legendgroup": "",
         "marker": {
          "color": "#636efa",
          "symbol": "circle"
         },
         "mode": "markers",
         "name": "",
         "orientation": "v",
         "showlegend": false,
         "type": "scatter",
         "x": [
          "Argentina",
          "Argentina",
          "Argentina",
          "Argentina",
          "Argentina",
          "Argentina",
          "Argentina",
          "Argentina",
          "Argentina",
          "Argentina",
          "Argentina",
          "Australia",
          "Australia",
          "Australia",
          "Australia",
          "Australia",
          "Australia",
          "Australia",
          "Australia",
          "Australia",
          "Australia",
          "Australia",
          "Austria",
          "Austria",
          "Austria",
          "Austria",
          "Austria",
          "Austria",
          "Austria",
          "Austria",
          "Belgium",
          "Belgium",
          "Belgium",
          "Belgium",
          "Belgium",
          "Belgium",
          "Belgium",
          "Belgium",
          "Belgium",
          "Belgium",
          "Belgium",
          "Brazil",
          "Brazil",
          "Brazil",
          "Brazil",
          "Brazil",
          "Brazil",
          "Brazil",
          "Brazil",
          "Brazil",
          "Brazil",
          "Brazil",
          "Canada",
          "Canada",
          "Canada",
          "Canada",
          "Canada",
          "Canada",
          "Canada",
          "Canada",
          "Canada",
          "Canada",
          "Canada",
          "Chile",
          "Chile",
          "Chile",
          "Chile",
          "Chile",
          "Chile",
          "Chile",
          "Chile",
          "Chile",
          "Chile",
          "Chile",
          "China (People’s Republic of)",
          "China (People’s Republic of)",
          "China (People’s Republic of)",
          "China (People’s Republic of)",
          "China (People’s Republic of)",
          "China (People’s Republic of)",
          "China (People’s Republic of)",
          "China (People’s Republic of)",
          "China (People’s Republic of)",
          "China (People’s Republic of)",
          "China (People’s Republic of)",
          "Chinese Taipei",
          "Chinese Taipei",
          "Chinese Taipei",
          "Chinese Taipei",
          "Chinese Taipei",
          "Chinese Taipei",
          "Chinese Taipei",
          "Chinese Taipei",
          "Chinese Taipei",
          "Chinese Taipei",
          "Chinese Taipei",
          "Colombia",
          "Colombia",
          "Colombia",
          "Colombia",
          "Colombia",
          "Colombia",
          "Colombia",
          "Colombia",
          "Colombia",
          "Colombia",
          "Colombia",
          "Costa Rica",
          "Costa Rica",
          "Costa Rica",
          "Costa Rica",
          "Costa Rica",
          "Costa Rica",
          "Costa Rica",
          "Costa Rica",
          "Costa Rica",
          "Costa Rica",
          "Costa Rica",
          "Denmark",
          "Denmark",
          "Denmark",
          "Denmark",
          "Denmark",
          "Denmark",
          "Denmark",
          "Denmark",
          "Denmark",
          "Denmark",
          "Denmark",
          "Estonia",
          "Estonia",
          "Estonia",
          "Estonia",
          "Estonia",
          "Estonia",
          "Estonia",
          "Estonia",
          "Estonia",
          "Estonia",
          "Estonia",
          "Finland",
          "Finland",
          "Finland",
          "Finland",
          "Finland",
          "Finland",
          "Finland",
          "Finland",
          "Finland",
          "Finland",
          "Finland",
          "France",
          "France",
          "France",
          "France",
          "France",
          "France",
          "France",
          "France",
          "France",
          "France",
          "France",
          "Germany",
          "Germany",
          "Germany",
          "Germany",
          "Germany",
          "Germany",
          "Germany",
          "Germany",
          "Germany",
          "Germany",
          "Germany",
          "Greece",
          "Greece",
          "Greece",
          "Greece",
          "Greece",
          "Greece",
          "Greece",
          "Greece",
          "Greece",
          "Greece",
          "Greece",
          "Iceland",
          "Iceland",
          "Iceland",
          "Iceland",
          "Iceland",
          "Iceland",
          "Iceland",
          "Iceland",
          "Iceland",
          "Indonesia",
          "Indonesia",
          "Indonesia",
          "Indonesia",
          "Indonesia",
          "Indonesia",
          "Indonesia",
          "Indonesia",
          "Indonesia",
          "Ireland",
          "Ireland",
          "Ireland",
          "Ireland",
          "Ireland",
          "Ireland",
          "Ireland",
          "Ireland",
          "Ireland",
          "Ireland",
          "Ireland",
          "Italy",
          "Italy",
          "Italy",
          "Italy",
          "Italy",
          "Italy",
          "Italy",
          "Italy",
          "Italy",
          "Italy",
          "Italy",
          "Japan",
          "Japan",
          "Japan",
          "Japan",
          "Japan",
          "Japan",
          "Japan",
          "Japan",
          "Japan",
          "Japan",
          "Japan",
          "Korea",
          "Korea",
          "Korea",
          "Korea",
          "Korea",
          "Korea",
          "Korea",
          "Korea",
          "Korea",
          "Korea",
          "Korea",
          "Latvia",
          "Latvia",
          "Latvia",
          "Latvia",
          "Latvia",
          "Latvia",
          "Latvia",
          "Latvia",
          "Latvia",
          "Latvia",
          "Latvia",
          "Lithuania",
          "Lithuania",
          "Lithuania",
          "Lithuania",
          "Lithuania",
          "Lithuania",
          "Lithuania",
          "Lithuania",
          "Lithuania",
          "Lithuania",
          "Lithuania",
          "Mexico",
          "Mexico",
          "Mexico",
          "Mexico",
          "Mexico",
          "Mexico",
          "Mexico",
          "Mexico",
          "Mexico",
          "Mexico",
          "Mexico",
          "Netherlands",
          "Netherlands",
          "Netherlands",
          "Netherlands",
          "Netherlands",
          "Netherlands",
          "Netherlands",
          "Netherlands",
          "Netherlands",
          "Netherlands",
          "Netherlands",
          "New Zealand",
          "New Zealand",
          "New Zealand",
          "New Zealand",
          "New Zealand",
          "New Zealand",
          "New Zealand",
          "New Zealand",
          "New Zealand",
          "New Zealand",
          "New Zealand",
          "Norway",
          "Norway",
          "Norway",
          "Norway",
          "Norway",
          "Norway",
          "Norway",
          "Norway",
          "Norway",
          "Norway",
          "Norway",
          "Peru",
          "Poland",
          "Poland",
          "Poland",
          "Poland",
          "Poland",
          "Poland",
          "Poland",
          "Poland",
          "Poland",
          "Poland",
          "Poland",
          "Portugal",
          "Portugal",
          "Portugal",
          "Portugal",
          "Portugal",
          "Portugal",
          "Portugal",
          "Portugal",
          "Portugal",
          "Portugal",
          "Portugal",
          "Slovenia",
          "Slovenia",
          "Slovenia",
          "Slovenia",
          "Slovenia",
          "Slovenia",
          "Slovenia",
          "Slovenia",
          "Slovenia",
          "Slovenia",
          "Slovenia",
          "Spain",
          "Spain",
          "Spain",
          "Spain",
          "Spain",
          "Spain",
          "Spain",
          "Spain",
          "Spain",
          "Spain",
          "Spain",
          "Sweden",
          "Sweden",
          "Sweden",
          "Sweden",
          "Sweden",
          "Sweden",
          "Sweden",
          "Sweden",
          "Sweden",
          "Sweden",
          "Sweden",
          "Thailand",
          "Thailand",
          "Thailand",
          "Thailand",
          "Thailand",
          "Thailand",
          "Türkiye",
          "Türkiye",
          "Türkiye",
          "Türkiye",
          "Türkiye",
          "Türkiye",
          "Türkiye",
          "Türkiye",
          "Türkiye",
          "Türkiye",
          "Türkiye",
          "United Kingdom",
          "United Kingdom",
          "United Kingdom",
          "United Kingdom",
          "United Kingdom",
          "United Kingdom",
          "United Kingdom",
          "United Kingdom",
          "United Kingdom",
          "United Kingdom",
          "United Kingdom",
          "United States",
          "United States",
          "United States",
          "United States",
          "United States",
          "United States",
          "United States",
          "United States",
          "United States",
          "United States",
          "United States",
          "Viet Nam",
          "Viet Nam",
          "Viet Nam",
          "Viet Nam",
          "Viet Nam",
          "Viet Nam",
          "Viet Nam",
          "Viet Nam"
         ],
         "xaxis": "x",
         "y": [
          925,
          859,
          804,
          938,
          911,
          902,
          1017,
          896,
          903,
          1090,
          874,
          325,
          318,
          302,
          294,
          285,
          318,
          290,
          298,
          309,
          315,
          306,
          180,
          180,
          190,
          180,
          180,
          180,
          180,
          180,
          70,
          72,
          76,
          79,
          80,
          83,
          86,
          89,
          68,
          68,
          64,
          2261,
          4012,
          10738,
          14064,
          17658,
          19535,
          21412,
          22469,
          24892,
          1326,
          8420,
          17522,
          16891,
          16911,
          19906,
          19520,
          18740,
          18430,
          18189,
          17856,
          17703,
          18452,
          8872,
          8350,
          9622,
          9540,
          9391,
          8644,
          9603,
          8568,
          7815,
          9563,
          7154,
          1069577,
          563262,
          731169,
          863892,
          946160,
          1011071,
          1042489,
          1065319,
          1071664,
          1069910,
          1065645,
          21772,
          23782,
          23557,
          23441,
          23012,
          21908,
          22771,
          22695,
          22567,
          22433,
          21689,
          158,
          143,
          46,
          135,
          134,
          134,
          133,
          175,
          124,
          118,
          120,
          1552,
          1912,
          2715,
          2803,
          5035,
          1703,
          1345,
          3771,
          2644,
          3155,
          1574,
          2783,
          2123,
          2077,
          2820,
          2447,
          2356,
          2198,
          2033,
          2261,
          2625,
          2739,
          1828,
          1742,
          1665,
          1595,
          1557,
          1538,
          1515,
          1360,
          923,
          934,
          1445,
          3207,
          3366,
          3137,
          3241,
          3211,
          3179,
          3332,
          3093,
          3224,
          3245,
          2723,
          6833,
          7216,
          7205,
          7138,
          7120,
          7066,
          6904,
          6373,
          6509,
          6224,
          6237,
          1673,
          1582,
          1550,
          1532,
          1491,
          1443,
          1414,
          1377,
          1331,
          1292,
          1309,
          14625,
          15351,
          14694,
          15603,
          15683,
          15854,
          16913,
          16403,
          15176,
          14982,
          14745,
          1312,
          1421,
          1375,
          1427,
          1370,
          1449,
          1279,
          1216,
          1148,
          829512,
          719769,
          815544,
          739932,
          768123,
          808775,
          728656.0632,
          726984,
          767187,
          2144,
          2033,
          2039,
          2141,
          2157,
          2193,
          2246,
          2022,
          2114,
          2035,
          2187,
          13431,
          12152,
          12125,
          12102,
          12252,
          12260,
          12300,
          12696,
          12593,
          12435,
          13023,
          219485,
          225276,
          230504,
          244569,
          250817,
          262742,
          269736,
          268679,
          292822,
          237503,
          257045,
          65835,
          65906,
          65744,
          66736,
          66970,
          67226,
          68417,
          71287,
          76974,
          75629,
          75031,
          675,
          663,
          686,
          715,
          700,
          663,
          703,
          731,
          786,
          686,
          671,
          151,
          139,
          171,
          146,
          138,
          143,
          144,
          142,
          145,
          142,
          144,
          94111,
          82069,
          71654,
          76096,
          75741,
          75997,
          76306,
          77483,
          76879,
          76842,
          76285,
          836,
          832,
          834,
          841,
          846,
          849,
          829,
          830,
          845,
          848,
          844,
          1168,
          1140,
          1060,
          1324,
          1254,
          1417,
          1221,
          1416,
          1401,
          1334,
          1367,
          6250,
          6211,
          6126,
          5939,
          5982,
          6018,
          6134,
          5947,
          5884,
          6310,
          5839,
          15827,
          798,
          843,
          875,
          873,
          838,
          790,
          793,
          834,
          827,
          826,
          822,
          7955,
          8333,
          7834,
          7757,
          7714,
          8035,
          8157,
          8425,
          7907,
          8200,
          8245,
          170,
          134,
          137,
          136,
          174,
          169,
          170,
          170,
          168,
          182,
          182,
          8973,
          9145,
          9244,
          9397,
          8839,
          9632,
          8883,
          10121,
          10510,
          10855,
          9873,
          1277,
          1318,
          1199,
          1136,
          1136,
          1230,
          1368,
          1359,
          1360,
          1369,
          1389,
          15381,
          17203,
          18089,
          16548,
          25231,
          23556,
          16437,
          15877,
          16998,
          17165,
          15315,
          15352,
          15302,
          15663,
          15680,
          17440,
          15406,
          6232,
          5964,
          6046,
          6151,
          5824,
          6276,
          6303,
          6360,
          6389,
          6460,
          6197,
          75231,
          75231,
          77695,
          75231,
          75231,
          75231,
          75231,
          75862,
          77695,
          77695,
          77695,
          124568,
          109586,
          110950,
          109356,
          128538,
          127784,
          118789,
          112939
         ],
         "yaxis": "y"
        }
       ],
       "layout": {
        "legend": {
         "tracegroupgap": 0
        },
        "template": {
         "data": {
          "bar": [
           {
            "error_x": {
             "color": "#2a3f5f"
            },
            "error_y": {
             "color": "#2a3f5f"
            },
            "marker": {
             "line": {
              "color": "#E5ECF6",
              "width": 0.5
             },
             "pattern": {
              "fillmode": "overlay",
              "size": 10,
              "solidity": 0.2
             }
            },
            "type": "bar"
           }
          ],
          "barpolar": [
           {
            "marker": {
             "line": {
              "color": "#E5ECF6",
              "width": 0.5
             },
             "pattern": {
              "fillmode": "overlay",
              "size": 10,
              "solidity": 0.2
             }
            },
            "type": "barpolar"
           }
          ],
          "carpet": [
           {
            "aaxis": {
             "endlinecolor": "#2a3f5f",
             "gridcolor": "white",
             "linecolor": "white",
             "minorgridcolor": "white",
             "startlinecolor": "#2a3f5f"
            },
            "baxis": {
             "endlinecolor": "#2a3f5f",
             "gridcolor": "white",
             "linecolor": "white",
             "minorgridcolor": "white",
             "startlinecolor": "#2a3f5f"
            },
            "type": "carpet"
           }
          ],
          "choropleth": [
           {
            "colorbar": {
             "outlinewidth": 0,
             "ticks": ""
            },
            "type": "choropleth"
           }
          ],
          "contour": [
           {
            "colorbar": {
             "outlinewidth": 0,
             "ticks": ""
            },
            "colorscale": [
             [
              0,
              "#0d0887"
             ],
             [
              0.1111111111111111,
              "#46039f"
             ],
             [
              0.2222222222222222,
              "#7201a8"
             ],
             [
              0.3333333333333333,
              "#9c179e"
             ],
             [
              0.4444444444444444,
              "#bd3786"
             ],
             [
              0.5555555555555556,
              "#d8576b"
             ],
             [
              0.6666666666666666,
              "#ed7953"
             ],
             [
              0.7777777777777778,
              "#fb9f3a"
             ],
             [
              0.8888888888888888,
              "#fdca26"
             ],
             [
              1,
              "#f0f921"
             ]
            ],
            "type": "contour"
           }
          ],
          "contourcarpet": [
           {
            "colorbar": {
             "outlinewidth": 0,
             "ticks": ""
            },
            "type": "contourcarpet"
           }
          ],
          "heatmap": [
           {
            "colorbar": {
             "outlinewidth": 0,
             "ticks": ""
            },
            "colorscale": [
             [
              0,
              "#0d0887"
             ],
             [
              0.1111111111111111,
              "#46039f"
             ],
             [
              0.2222222222222222,
              "#7201a8"
             ],
             [
              0.3333333333333333,
              "#9c179e"
             ],
             [
              0.4444444444444444,
              "#bd3786"
             ],
             [
              0.5555555555555556,
              "#d8576b"
             ],
             [
              0.6666666666666666,
              "#ed7953"
             ],
             [
              0.7777777777777778,
              "#fb9f3a"
             ],
             [
              0.8888888888888888,
              "#fdca26"
             ],
             [
              1,
              "#f0f921"
             ]
            ],
            "type": "heatmap"
           }
          ],
          "heatmapgl": [
           {
            "colorbar": {
             "outlinewidth": 0,
             "ticks": ""
            },
            "colorscale": [
             [
              0,
              "#0d0887"
             ],
             [
              0.1111111111111111,
              "#46039f"
             ],
             [
              0.2222222222222222,
              "#7201a8"
             ],
             [
              0.3333333333333333,
              "#9c179e"
             ],
             [
              0.4444444444444444,
              "#bd3786"
             ],
             [
              0.5555555555555556,
              "#d8576b"
             ],
             [
              0.6666666666666666,
              "#ed7953"
             ],
             [
              0.7777777777777778,
              "#fb9f3a"
             ],
             [
              0.8888888888888888,
              "#fdca26"
             ],
             [
              1,
              "#f0f921"
             ]
            ],
            "type": "heatmapgl"
           }
          ],
          "histogram": [
           {
            "marker": {
             "pattern": {
              "fillmode": "overlay",
              "size": 10,
              "solidity": 0.2
             }
            },
            "type": "histogram"
           }
          ],
          "histogram2d": [
           {
            "colorbar": {
             "outlinewidth": 0,
             "ticks": ""
            },
            "colorscale": [
             [
              0,
              "#0d0887"
             ],
             [
              0.1111111111111111,
              "#46039f"
             ],
             [
              0.2222222222222222,
              "#7201a8"
             ],
             [
              0.3333333333333333,
              "#9c179e"
             ],
             [
              0.4444444444444444,
              "#bd3786"
             ],
             [
              0.5555555555555556,
              "#d8576b"
             ],
             [
              0.6666666666666666,
              "#ed7953"
             ],
             [
              0.7777777777777778,
              "#fb9f3a"
             ],
             [
              0.8888888888888888,
              "#fdca26"
             ],
             [
              1,
              "#f0f921"
             ]
            ],
            "type": "histogram2d"
           }
          ],
          "histogram2dcontour": [
           {
            "colorbar": {
             "outlinewidth": 0,
             "ticks": ""
            },
            "colorscale": [
             [
              0,
              "#0d0887"
             ],
             [
              0.1111111111111111,
              "#46039f"
             ],
             [
              0.2222222222222222,
              "#7201a8"
             ],
             [
              0.3333333333333333,
              "#9c179e"
             ],
             [
              0.4444444444444444,
              "#bd3786"
             ],
             [
              0.5555555555555556,
              "#d8576b"
             ],
             [
              0.6666666666666666,
              "#ed7953"
             ],
             [
              0.7777777777777778,
              "#fb9f3a"
             ],
             [
              0.8888888888888888,
              "#fdca26"
             ],
             [
              1,
              "#f0f921"
             ]
            ],
            "type": "histogram2dcontour"
           }
          ],
          "mesh3d": [
           {
            "colorbar": {
             "outlinewidth": 0,
             "ticks": ""
            },
            "type": "mesh3d"
           }
          ],
          "parcoords": [
           {
            "line": {
             "colorbar": {
              "outlinewidth": 0,
              "ticks": ""
             }
            },
            "type": "parcoords"
           }
          ],
          "pie": [
           {
            "automargin": true,
            "type": "pie"
           }
          ],
          "scatter": [
           {
            "fillpattern": {
             "fillmode": "overlay",
             "size": 10,
             "solidity": 0.2
            },
            "type": "scatter"
           }
          ],
          "scatter3d": [
           {
            "line": {
             "colorbar": {
              "outlinewidth": 0,
              "ticks": ""
             }
            },
            "marker": {
             "colorbar": {
              "outlinewidth": 0,
              "ticks": ""
             }
            },
            "type": "scatter3d"
           }
          ],
          "scattercarpet": [
           {
            "marker": {
             "colorbar": {
              "outlinewidth": 0,
              "ticks": ""
             }
            },
            "type": "scattercarpet"
           }
          ],
          "scattergeo": [
           {
            "marker": {
             "colorbar": {
              "outlinewidth": 0,
              "ticks": ""
             }
            },
            "type": "scattergeo"
           }
          ],
          "scattergl": [
           {
            "marker": {
             "colorbar": {
              "outlinewidth": 0,
              "ticks": ""
             }
            },
            "type": "scattergl"
           }
          ],
          "scattermapbox": [
           {
            "marker": {
             "colorbar": {
              "outlinewidth": 0,
              "ticks": ""
             }
            },
            "type": "scattermapbox"
           }
          ],
          "scatterpolar": [
           {
            "marker": {
             "colorbar": {
              "outlinewidth": 0,
              "ticks": ""
             }
            },
            "type": "scatterpolar"
           }
          ],
          "scatterpolargl": [
           {
            "marker": {
             "colorbar": {
              "outlinewidth": 0,
              "ticks": ""
             }
            },
            "type": "scatterpolargl"
           }
          ],
          "scatterternary": [
           {
            "marker": {
             "colorbar": {
              "outlinewidth": 0,
              "ticks": ""
             }
            },
            "type": "scatterternary"
           }
          ],
          "surface": [
           {
            "colorbar": {
             "outlinewidth": 0,
             "ticks": ""
            },
            "colorscale": [
             [
              0,
              "#0d0887"
             ],
             [
              0.1111111111111111,
              "#46039f"
             ],
             [
              0.2222222222222222,
              "#7201a8"
             ],
             [
              0.3333333333333333,
              "#9c179e"
             ],
             [
              0.4444444444444444,
              "#bd3786"
             ],
             [
              0.5555555555555556,
              "#d8576b"
             ],
             [
              0.6666666666666666,
              "#ed7953"
             ],
             [
              0.7777777777777778,
              "#fb9f3a"
             ],
             [
              0.8888888888888888,
              "#fdca26"
             ],
             [
              1,
              "#f0f921"
             ]
            ],
            "type": "surface"
           }
          ],
          "table": [
           {
            "cells": {
             "fill": {
              "color": "#EBF0F8"
             },
             "line": {
              "color": "white"
             }
            },
            "header": {
             "fill": {
              "color": "#C8D4E3"
             },
             "line": {
              "color": "white"
             }
            },
            "type": "table"
           }
          ]
         },
         "layout": {
          "annotationdefaults": {
           "arrowcolor": "#2a3f5f",
           "arrowhead": 0,
           "arrowwidth": 1
          },
          "autotypenumbers": "strict",
          "coloraxis": {
           "colorbar": {
            "outlinewidth": 0,
            "ticks": ""
           }
          },
          "colorscale": {
           "diverging": [
            [
             0,
             "#8e0152"
            ],
            [
             0.1,
             "#c51b7d"
            ],
            [
             0.2,
             "#de77ae"
            ],
            [
             0.3,
             "#f1b6da"
            ],
            [
             0.4,
             "#fde0ef"
            ],
            [
             0.5,
             "#f7f7f7"
            ],
            [
             0.6,
             "#e6f5d0"
            ],
            [
             0.7,
             "#b8e186"
            ],
            [
             0.8,
             "#7fbc41"
            ],
            [
             0.9,
             "#4d9221"
            ],
            [
             1,
             "#276419"
            ]
           ],
           "sequential": [
            [
             0,
             "#0d0887"
            ],
            [
             0.1111111111111111,
             "#46039f"
            ],
            [
             0.2222222222222222,
             "#7201a8"
            ],
            [
             0.3333333333333333,
             "#9c179e"
            ],
            [
             0.4444444444444444,
             "#bd3786"
            ],
            [
             0.5555555555555556,
             "#d8576b"
            ],
            [
             0.6666666666666666,
             "#ed7953"
            ],
            [
             0.7777777777777778,
             "#fb9f3a"
            ],
            [
             0.8888888888888888,
             "#fdca26"
            ],
            [
             1,
             "#f0f921"
            ]
           ],
           "sequentialminus": [
            [
             0,
             "#0d0887"
            ],
            [
             0.1111111111111111,
             "#46039f"
            ],
            [
             0.2222222222222222,
             "#7201a8"
            ],
            [
             0.3333333333333333,
             "#9c179e"
            ],
            [
             0.4444444444444444,
             "#bd3786"
            ],
            [
             0.5555555555555556,
             "#d8576b"
            ],
            [
             0.6666666666666666,
             "#ed7953"
            ],
            [
             0.7777777777777778,
             "#fb9f3a"
            ],
            [
             0.8888888888888888,
             "#fdca26"
            ],
            [
             1,
             "#f0f921"
            ]
           ]
          },
          "colorway": [
           "#636efa",
           "#EF553B",
           "#00cc96",
           "#ab63fa",
           "#FFA15A",
           "#19d3f3",
           "#FF6692",
           "#B6E880",
           "#FF97FF",
           "#FECB52"
          ],
          "font": {
           "color": "#2a3f5f"
          },
          "geo": {
           "bgcolor": "white",
           "lakecolor": "white",
           "landcolor": "#E5ECF6",
           "showlakes": true,
           "showland": true,
           "subunitcolor": "white"
          },
          "hoverlabel": {
           "align": "left"
          },
          "hovermode": "closest",
          "mapbox": {
           "style": "light"
          },
          "paper_bgcolor": "white",
          "plot_bgcolor": "#E5ECF6",
          "polar": {
           "angularaxis": {
            "gridcolor": "white",
            "linecolor": "white",
            "ticks": ""
           },
           "bgcolor": "#E5ECF6",
           "radialaxis": {
            "gridcolor": "white",
            "linecolor": "white",
            "ticks": ""
           }
          },
          "scene": {
           "xaxis": {
            "backgroundcolor": "#E5ECF6",
            "gridcolor": "white",
            "gridwidth": 2,
            "linecolor": "white",
            "showbackground": true,
            "ticks": "",
            "zerolinecolor": "white"
           },
           "yaxis": {
            "backgroundcolor": "#E5ECF6",
            "gridcolor": "white",
            "gridwidth": 2,
            "linecolor": "white",
            "showbackground": true,
            "ticks": "",
            "zerolinecolor": "white"
           },
           "zaxis": {
            "backgroundcolor": "#E5ECF6",
            "gridcolor": "white",
            "gridwidth": 2,
            "linecolor": "white",
            "showbackground": true,
            "ticks": "",
            "zerolinecolor": "white"
           }
          },
          "shapedefaults": {
           "line": {
            "color": "#2a3f5f"
           }
          },
          "ternary": {
           "aaxis": {
            "gridcolor": "white",
            "linecolor": "white",
            "ticks": ""
           },
           "baxis": {
            "gridcolor": "white",
            "linecolor": "white",
            "ticks": ""
           },
           "bgcolor": "#E5ECF6",
           "caxis": {
            "gridcolor": "white",
            "linecolor": "white",
            "ticks": ""
           }
          },
          "title": {
           "x": 0.05
          },
          "xaxis": {
           "automargin": true,
           "gridcolor": "white",
           "linecolor": "white",
           "ticks": "",
           "title": {
            "standoff": 15
           },
           "zerolinecolor": "white",
           "zerolinewidth": 2
          },
          "yaxis": {
           "automargin": true,
           "gridcolor": "white",
           "linecolor": "white",
           "ticks": "",
           "title": {
            "standoff": 15
           },
           "zerolinecolor": "white",
           "zerolinewidth": 2
          }
         }
        },
        "title": {
         "text": "Scatter Plot of Time Period vs Absolute Value"
        },
        "xaxis": {
         "anchor": "y",
         "domain": [
          0,
          1
         ],
         "title": {
          "text": "Country"
         }
        },
        "yaxis": {
         "anchor": "x",
         "domain": [
          0,
          1
         ],
         "title": {
          "text": "Absolute Value"
         }
        }
       }
      }
     },
     "metadata": {},
     "output_type": "display_data"
    }
   ],
   "source": [
    "FishBoats = pd.read_csv('Fish_Boote.csv')\n",
    "FishInland = pd.read_csv('Fish_Inland.csv')\n",
    "\n",
    "FishBoatsSorted = FishBoats.sort_values(by='Reference area', ascending=True)\n",
    "referenceArea = FishBoatsSorted['Reference area'].tolist()\n",
    "timePeriod = FishBoatsSorted['TIME_PERIOD'].tolist()\n",
    "obsValue = FishBoatsSorted['OBS_VALUE'].tolist()\n",
    "print(referenceArea, timePeriod, obsValue)\n",
    "\n",
    "plt.figure(figsize=(10,6))\n",
    "plt.scatter(timePeriod, obsValue, c='blue', label='Absolute Value')\n",
    "\n",
    "# Add labels and title\n",
    "plt.xlabel('Time Period (Years)')\n",
    "plt.ylabel('Absolute Value')\n",
    "plt.title('Scatter Plot of Time Period vs Absolute Value')\n",
    "\n",
    "plt.legend()\n",
    "plt.show()\n",
    "\n",
    "\n",
    "\n",
    "df = pd.DataFrame({\n",
    "    'Country': referenceArea,\n",
    "    'Absolute_Value': obsValue\n",
    "})\n",
    "\n",
    "# Create a scatter plot using Plotly\n",
    "fig = px.scatter(df, x='Country', y='Absolute_Value', \n",
    "                 title=\"Scatter Plot of Time Period vs Absolute Value\",\n",
    "                 labels={'Time_Period': 'Time Period (Years)', 'Absolute_Value': 'Absolute Value'})\n",
    "\n",
    "# Show the plot\n",
    "fig.show()"
   ]
  }
 ],
 "metadata": {
  "kernelspec": {
   "display_name": "Python 3",
   "language": "python",
   "name": "python3"
  },
  "language_info": {
   "codemirror_mode": {
    "name": "ipython",
    "version": 3
   },
   "file_extension": ".py",
   "mimetype": "text/x-python",
   "name": "python",
   "nbconvert_exporter": "python",
   "pygments_lexer": "ipython3",
   "version": "3.10.12"
  }
 },
 "nbformat": 4,
 "nbformat_minor": 2
}
