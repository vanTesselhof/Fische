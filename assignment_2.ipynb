{
 "cells": [
  {
   "cell_type": "code",
   "execution_count": null,
   "metadata": {},
   "outputs": [],
   "source": [
    "################################################################################\n",
    "# Author 1:      Firstname Lastname\n",
    "# MatNr 1:       01234567\n",
    "# Author 2:      Firstname Lastname\n",
    "# MatNr 2:       01234567\n",
    "# Author 3:      Jakob Marktl\n",
    "# MatNr 3:       12335939\n",
    "# File:          assignment2.ipynb\n",
    "# Description: ... short description of the file ...\n",
    "# Comments:    ... comments for the tutors ...\n",
    "#              ... can be multiline ...\n",
    "################################################################################"
   ]
  },
  {
   "cell_type": "code",
   "execution_count": 2,
   "metadata": {},
   "outputs": [],
   "source": [
    "import pandas as pd\n",
    "import matplotlib.pyplot as plt\n",
    "import plotly.express as px\n",
    "import numpy as np\n",
    "import pycountry\n",
    "import pycountry_convert"
   ]
  },
  {
   "cell_type": "markdown",
   "metadata": {},
   "source": [
    "Alles in einem File, programmieren\n",
    "\n",
    "Robert:"
   ]
  },
  {
   "cell_type": "code",
   "execution_count": null,
   "metadata": {},
   "outputs": [],
   "source": []
  },
  {
   "cell_type": "markdown",
   "metadata": {},
   "source": [
    "David:"
   ]
  },
  {
   "cell_type": "code",
   "execution_count": 1,
   "metadata": {},
   "outputs": [
    {
     "name": "stdout",
     "output_type": "stream",
     "text": [
      "David hat was gemacht\n"
     ]
    }
   ],
   "source": [
    "print(\"David hat was gemacht\")"
   ]
  },
  {
   "cell_type": "markdown",
   "metadata": {},
   "source": [
    "Jakob:"
   ]
  },
  {
   "cell_type": "code",
   "execution_count": null,
   "metadata": {},
   "outputs": [
    {
     "data": {
      "application/vnd.plotly.v1+json": {
       "config": {
        "plotlyServerURL": "https://plot.ly"
       },
       "data": [
        {
         "customdata": [
          [
           "Europe",
           "Belgium",
           2010
          ],
          [
           "Europe",
           "Finland",
           2010
          ],
          [
           "Europe",
           "Ireland",
           2010
          ],
          [
           "Europe",
           "Norway",
           2010
          ],
          [
           "Europe",
           "Estonia",
           2010
          ],
          [
           "Europe",
           "Lithuania",
           2010
          ],
          [
           "Europe",
           "Sweden",
           2010
          ],
          [
           "Europe",
           "Portugal",
           2010
          ],
          [
           "Europe",
           "Latvia",
           2010
          ],
          [
           "Europe",
           "United Kingdom",
           2010
          ],
          [
           "Europe",
           "Spain",
           2010
          ],
          [
           "Europe",
           "Greece",
           2010
          ],
          [
           "Europe",
           "France",
           2010
          ],
          [
           "Europe",
           "Poland",
           2010
          ],
          [
           "Europe",
           "Slovenia",
           2010
          ],
          [
           "Europe",
           "Iceland",
           2010
          ],
          [
           "Europe",
           "Austria",
           2010
          ],
          [
           "Europe",
           "Italy",
           2010
          ],
          [
           "Europe",
           "Netherlands",
           2010
          ],
          [
           "Europe",
           "Denmark",
           2010
          ],
          [
           "Europe",
           "Germany",
           2010
          ]
         ],
         "hovertemplate": "Amount of vessels=%{x}<br>Amount of catches=%{y}<br>country=%{customdata[1]}<extra></extra>",
         "legendgroup": "Europe",
         "marker": {
          "color": "#636efa",
          "symbol": "circle"
         },
         "mode": "markers",
         "name": "Europe",
         "orientation": "v",
         "showlegend": true,
         "type": "scatter",
         "x": [
          89,
          3366,
          2144,
          6310,
          934,
          171,
          1360,
          8425,
          786,
          6460,
          10855,
          16913,
          7216,
          793,
          182,
          1375,
          190,
          13431,
          846,
          2820,
          1673
         ],
         "xaxis": "x",
         "y": [
          511,
          28874,
          116,
          437,
          2869,
          1310,
          1368,
          1,
          329,
          2473,
          6000,
          940,
          1950,
          18508,
          169,
          260,
          350,
          3852,
          2051,
          114,
          15010
         ],
         "yaxis": "y"
        },
        {
         "customdata": [
          [
           "Asia",
           "Viet Nam",
           2010
          ],
          [
           "Asia",
           "Türkiye",
           2010
          ],
          [
           "Asia",
           "Chinese Taipei",
           2010
          ],
          [
           "Asia",
           "Korea",
           2010
          ],
          [
           "Asia",
           "Japan",
           2010
          ],
          [
           "Asia",
           "Indonesia",
           2010
          ],
          [
           "Asia",
           "China (People’s Republic of)",
           2010
          ],
          [
           "Asia",
           "Thailand",
           2010
          ]
         ],
         "hovertemplate": "Amount of vessels=%{x}<br>Amount of catches=%{y}<br>country=%{customdata[1]}<extra></extra>",
         "legendgroup": "Asia",
         "marker": {
          "color": "#EF553B",
          "symbol": "circle"
         },
         "mode": "markers",
         "name": "Asia",
         "orientation": "v",
         "showlegend": true,
         "type": "scatter",
         "x": [
          128538,
          17440,
          23782,
          76974,
          292822,
          739932,
          1065645,
          15381
         ],
         "xaxis": "x",
         "y": [
          182655,
          39479,
          77,
          10256,
          39576,
          341393,
          2080560,
          209300
         ],
         "yaxis": "y"
        },
        {
         "customdata": [
          [
           "South America",
           "Peru",
           2010
          ],
          [
           "South America",
           "Brazil",
           2010
          ],
          [
           "South America",
           "Argentina",
           2010
          ],
          [
           "South America",
           "Costa Rica",
           2010
          ],
          [
           "South America",
           "Mexico",
           2010
          ],
          [
           "South America",
           "Chile",
           2010
          ],
          [
           "South America",
           "Colombia",
           2010
          ]
         ],
         "hovertemplate": "Amount of vessels=%{x}<br>Amount of catches=%{y}<br>country=%{customdata[1]}<extra></extra>",
         "legendgroup": "South America",
         "marker": {
          "color": "#00cc96",
          "symbol": "circle"
         },
         "mode": "markers",
         "name": "South America",
         "orientation": "v",
         "showlegend": true,
         "type": "scatter",
         "x": [
          0,
          1326,
          1090,
          5035,
          94111,
          7815,
          158
         ],
         "xaxis": "x",
         "y": [
          44368,
          248122,
          15445,
          100,
          115732,
          0,
          21049
         ],
         "yaxis": "y"
        },
        {
         "customdata": [
          [
           "Australia",
           "Australia",
           2010
          ],
          [
           "Australia",
           "New Zealand",
           2010
          ]
         ],
         "hovertemplate": "Amount of vessels=%{x}<br>Amount of catches=%{y}<br>country=%{customdata[1]}<extra></extra>",
         "legendgroup": "Australia",
         "marker": {
          "color": "#ab63fa",
          "symbol": "circle"
         },
         "mode": "markers",
         "name": "Australia",
         "orientation": "v",
         "showlegend": true,
         "type": "scatter",
         "x": [
          318,
          1401
         ],
         "xaxis": "x",
         "y": [
          1376,
          892
         ],
         "yaxis": "y"
        },
        {
         "customdata": [
          [
           "America",
           "United States",
           2010
          ],
          [
           "America",
           "Canada",
           2010
          ]
         ],
         "hovertemplate": "Amount of vessels=%{x}<br>Amount of catches=%{y}<br>country=%{customdata[1]}<extra></extra>",
         "legendgroup": "America",
         "marker": {
          "color": "#FFA15A",
          "symbol": "circle"
         },
         "mode": "markers",
         "name": "America",
         "orientation": "v",
         "showlegend": true,
         "type": "scatter",
         "x": [
          77695,
          19906
         ],
         "xaxis": "x",
         "y": [
          21171,
          27385
         ],
         "yaxis": "y"
        }
       ],
       "layout": {
        "legend": {
         "title": {
          "text": "continent"
         },
         "tracegroupgap": 0
        },
        "template": {
         "data": {
          "bar": [
           {
            "error_x": {
             "color": "#2a3f5f"
            },
            "error_y": {
             "color": "#2a3f5f"
            },
            "marker": {
             "line": {
              "color": "#E5ECF6",
              "width": 0.5
             },
             "pattern": {
              "fillmode": "overlay",
              "size": 10,
              "solidity": 0.2
             }
            },
            "type": "bar"
           }
          ],
          "barpolar": [
           {
            "marker": {
             "line": {
              "color": "#E5ECF6",
              "width": 0.5
             },
             "pattern": {
              "fillmode": "overlay",
              "size": 10,
              "solidity": 0.2
             }
            },
            "type": "barpolar"
           }
          ],
          "carpet": [
           {
            "aaxis": {
             "endlinecolor": "#2a3f5f",
             "gridcolor": "white",
             "linecolor": "white",
             "minorgridcolor": "white",
             "startlinecolor": "#2a3f5f"
            },
            "baxis": {
             "endlinecolor": "#2a3f5f",
             "gridcolor": "white",
             "linecolor": "white",
             "minorgridcolor": "white",
             "startlinecolor": "#2a3f5f"
            },
            "type": "carpet"
           }
          ],
          "choropleth": [
           {
            "colorbar": {
             "outlinewidth": 0,
             "ticks": ""
            },
            "type": "choropleth"
           }
          ],
          "contour": [
           {
            "colorbar": {
             "outlinewidth": 0,
             "ticks": ""
            },
            "colorscale": [
             [
              0,
              "#0d0887"
             ],
             [
              0.1111111111111111,
              "#46039f"
             ],
             [
              0.2222222222222222,
              "#7201a8"
             ],
             [
              0.3333333333333333,
              "#9c179e"
             ],
             [
              0.4444444444444444,
              "#bd3786"
             ],
             [
              0.5555555555555556,
              "#d8576b"
             ],
             [
              0.6666666666666666,
              "#ed7953"
             ],
             [
              0.7777777777777778,
              "#fb9f3a"
             ],
             [
              0.8888888888888888,
              "#fdca26"
             ],
             [
              1,
              "#f0f921"
             ]
            ],
            "type": "contour"
           }
          ],
          "contourcarpet": [
           {
            "colorbar": {
             "outlinewidth": 0,
             "ticks": ""
            },
            "type": "contourcarpet"
           }
          ],
          "heatmap": [
           {
            "colorbar": {
             "outlinewidth": 0,
             "ticks": ""
            },
            "colorscale": [
             [
              0,
              "#0d0887"
             ],
             [
              0.1111111111111111,
              "#46039f"
             ],
             [
              0.2222222222222222,
              "#7201a8"
             ],
             [
              0.3333333333333333,
              "#9c179e"
             ],
             [
              0.4444444444444444,
              "#bd3786"
             ],
             [
              0.5555555555555556,
              "#d8576b"
             ],
             [
              0.6666666666666666,
              "#ed7953"
             ],
             [
              0.7777777777777778,
              "#fb9f3a"
             ],
             [
              0.8888888888888888,
              "#fdca26"
             ],
             [
              1,
              "#f0f921"
             ]
            ],
            "type": "heatmap"
           }
          ],
          "heatmapgl": [
           {
            "colorbar": {
             "outlinewidth": 0,
             "ticks": ""
            },
            "colorscale": [
             [
              0,
              "#0d0887"
             ],
             [
              0.1111111111111111,
              "#46039f"
             ],
             [
              0.2222222222222222,
              "#7201a8"
             ],
             [
              0.3333333333333333,
              "#9c179e"
             ],
             [
              0.4444444444444444,
              "#bd3786"
             ],
             [
              0.5555555555555556,
              "#d8576b"
             ],
             [
              0.6666666666666666,
              "#ed7953"
             ],
             [
              0.7777777777777778,
              "#fb9f3a"
             ],
             [
              0.8888888888888888,
              "#fdca26"
             ],
             [
              1,
              "#f0f921"
             ]
            ],
            "type": "heatmapgl"
           }
          ],
          "histogram": [
           {
            "marker": {
             "pattern": {
              "fillmode": "overlay",
              "size": 10,
              "solidity": 0.2
             }
            },
            "type": "histogram"
           }
          ],
          "histogram2d": [
           {
            "colorbar": {
             "outlinewidth": 0,
             "ticks": ""
            },
            "colorscale": [
             [
              0,
              "#0d0887"
             ],
             [
              0.1111111111111111,
              "#46039f"
             ],
             [
              0.2222222222222222,
              "#7201a8"
             ],
             [
              0.3333333333333333,
              "#9c179e"
             ],
             [
              0.4444444444444444,
              "#bd3786"
             ],
             [
              0.5555555555555556,
              "#d8576b"
             ],
             [
              0.6666666666666666,
              "#ed7953"
             ],
             [
              0.7777777777777778,
              "#fb9f3a"
             ],
             [
              0.8888888888888888,
              "#fdca26"
             ],
             [
              1,
              "#f0f921"
             ]
            ],
            "type": "histogram2d"
           }
          ],
          "histogram2dcontour": [
           {
            "colorbar": {
             "outlinewidth": 0,
             "ticks": ""
            },
            "colorscale": [
             [
              0,
              "#0d0887"
             ],
             [
              0.1111111111111111,
              "#46039f"
             ],
             [
              0.2222222222222222,
              "#7201a8"
             ],
             [
              0.3333333333333333,
              "#9c179e"
             ],
             [
              0.4444444444444444,
              "#bd3786"
             ],
             [
              0.5555555555555556,
              "#d8576b"
             ],
             [
              0.6666666666666666,
              "#ed7953"
             ],
             [
              0.7777777777777778,
              "#fb9f3a"
             ],
             [
              0.8888888888888888,
              "#fdca26"
             ],
             [
              1,
              "#f0f921"
             ]
            ],
            "type": "histogram2dcontour"
           }
          ],
          "mesh3d": [
           {
            "colorbar": {
             "outlinewidth": 0,
             "ticks": ""
            },
            "type": "mesh3d"
           }
          ],
          "parcoords": [
           {
            "line": {
             "colorbar": {
              "outlinewidth": 0,
              "ticks": ""
             }
            },
            "type": "parcoords"
           }
          ],
          "pie": [
           {
            "automargin": true,
            "type": "pie"
           }
          ],
          "scatter": [
           {
            "fillpattern": {
             "fillmode": "overlay",
             "size": 10,
             "solidity": 0.2
            },
            "type": "scatter"
           }
          ],
          "scatter3d": [
           {
            "line": {
             "colorbar": {
              "outlinewidth": 0,
              "ticks": ""
             }
            },
            "marker": {
             "colorbar": {
              "outlinewidth": 0,
              "ticks": ""
             }
            },
            "type": "scatter3d"
           }
          ],
          "scattercarpet": [
           {
            "marker": {
             "colorbar": {
              "outlinewidth": 0,
              "ticks": ""
             }
            },
            "type": "scattercarpet"
           }
          ],
          "scattergeo": [
           {
            "marker": {
             "colorbar": {
              "outlinewidth": 0,
              "ticks": ""
             }
            },
            "type": "scattergeo"
           }
          ],
          "scattergl": [
           {
            "marker": {
             "colorbar": {
              "outlinewidth": 0,
              "ticks": ""
             }
            },
            "type": "scattergl"
           }
          ],
          "scattermapbox": [
           {
            "marker": {
             "colorbar": {
              "outlinewidth": 0,
              "ticks": ""
             }
            },
            "type": "scattermapbox"
           }
          ],
          "scatterpolar": [
           {
            "marker": {
             "colorbar": {
              "outlinewidth": 0,
              "ticks": ""
             }
            },
            "type": "scatterpolar"
           }
          ],
          "scatterpolargl": [
           {
            "marker": {
             "colorbar": {
              "outlinewidth": 0,
              "ticks": ""
             }
            },
            "type": "scatterpolargl"
           }
          ],
          "scatterternary": [
           {
            "marker": {
             "colorbar": {
              "outlinewidth": 0,
              "ticks": ""
             }
            },
            "type": "scatterternary"
           }
          ],
          "surface": [
           {
            "colorbar": {
             "outlinewidth": 0,
             "ticks": ""
            },
            "colorscale": [
             [
              0,
              "#0d0887"
             ],
             [
              0.1111111111111111,
              "#46039f"
             ],
             [
              0.2222222222222222,
              "#7201a8"
             ],
             [
              0.3333333333333333,
              "#9c179e"
             ],
             [
              0.4444444444444444,
              "#bd3786"
             ],
             [
              0.5555555555555556,
              "#d8576b"
             ],
             [
              0.6666666666666666,
              "#ed7953"
             ],
             [
              0.7777777777777778,
              "#fb9f3a"
             ],
             [
              0.8888888888888888,
              "#fdca26"
             ],
             [
              1,
              "#f0f921"
             ]
            ],
            "type": "surface"
           }
          ],
          "table": [
           {
            "cells": {
             "fill": {
              "color": "#EBF0F8"
             },
             "line": {
              "color": "white"
             }
            },
            "header": {
             "fill": {
              "color": "#C8D4E3"
             },
             "line": {
              "color": "white"
             }
            },
            "type": "table"
           }
          ]
         },
         "layout": {
          "annotationdefaults": {
           "arrowcolor": "#2a3f5f",
           "arrowhead": 0,
           "arrowwidth": 1
          },
          "autotypenumbers": "strict",
          "coloraxis": {
           "colorbar": {
            "outlinewidth": 0,
            "ticks": ""
           }
          },
          "colorscale": {
           "diverging": [
            [
             0,
             "#8e0152"
            ],
            [
             0.1,
             "#c51b7d"
            ],
            [
             0.2,
             "#de77ae"
            ],
            [
             0.3,
             "#f1b6da"
            ],
            [
             0.4,
             "#fde0ef"
            ],
            [
             0.5,
             "#f7f7f7"
            ],
            [
             0.6,
             "#e6f5d0"
            ],
            [
             0.7,
             "#b8e186"
            ],
            [
             0.8,
             "#7fbc41"
            ],
            [
             0.9,
             "#4d9221"
            ],
            [
             1,
             "#276419"
            ]
           ],
           "sequential": [
            [
             0,
             "#0d0887"
            ],
            [
             0.1111111111111111,
             "#46039f"
            ],
            [
             0.2222222222222222,
             "#7201a8"
            ],
            [
             0.3333333333333333,
             "#9c179e"
            ],
            [
             0.4444444444444444,
             "#bd3786"
            ],
            [
             0.5555555555555556,
             "#d8576b"
            ],
            [
             0.6666666666666666,
             "#ed7953"
            ],
            [
             0.7777777777777778,
             "#fb9f3a"
            ],
            [
             0.8888888888888888,
             "#fdca26"
            ],
            [
             1,
             "#f0f921"
            ]
           ],
           "sequentialminus": [
            [
             0,
             "#0d0887"
            ],
            [
             0.1111111111111111,
             "#46039f"
            ],
            [
             0.2222222222222222,
             "#7201a8"
            ],
            [
             0.3333333333333333,
             "#9c179e"
            ],
            [
             0.4444444444444444,
             "#bd3786"
            ],
            [
             0.5555555555555556,
             "#d8576b"
            ],
            [
             0.6666666666666666,
             "#ed7953"
            ],
            [
             0.7777777777777778,
             "#fb9f3a"
            ],
            [
             0.8888888888888888,
             "#fdca26"
            ],
            [
             1,
             "#f0f921"
            ]
           ]
          },
          "colorway": [
           "#636efa",
           "#EF553B",
           "#00cc96",
           "#ab63fa",
           "#FFA15A",
           "#19d3f3",
           "#FF6692",
           "#B6E880",
           "#FF97FF",
           "#FECB52"
          ],
          "font": {
           "color": "#2a3f5f"
          },
          "geo": {
           "bgcolor": "white",
           "lakecolor": "white",
           "landcolor": "#E5ECF6",
           "showlakes": true,
           "showland": true,
           "subunitcolor": "white"
          },
          "hoverlabel": {
           "align": "left"
          },
          "hovermode": "closest",
          "mapbox": {
           "style": "light"
          },
          "paper_bgcolor": "white",
          "plot_bgcolor": "#E5ECF6",
          "polar": {
           "angularaxis": {
            "gridcolor": "white",
            "linecolor": "white",
            "ticks": ""
           },
           "bgcolor": "#E5ECF6",
           "radialaxis": {
            "gridcolor": "white",
            "linecolor": "white",
            "ticks": ""
           }
          },
          "scene": {
           "xaxis": {
            "backgroundcolor": "#E5ECF6",
            "gridcolor": "white",
            "gridwidth": 2,
            "linecolor": "white",
            "showbackground": true,
            "ticks": "",
            "zerolinecolor": "white"
           },
           "yaxis": {
            "backgroundcolor": "#E5ECF6",
            "gridcolor": "white",
            "gridwidth": 2,
            "linecolor": "white",
            "showbackground": true,
            "ticks": "",
            "zerolinecolor": "white"
           },
           "zaxis": {
            "backgroundcolor": "#E5ECF6",
            "gridcolor": "white",
            "gridwidth": 2,
            "linecolor": "white",
            "showbackground": true,
            "ticks": "",
            "zerolinecolor": "white"
           }
          },
          "shapedefaults": {
           "line": {
            "color": "#2a3f5f"
           }
          },
          "ternary": {
           "aaxis": {
            "gridcolor": "white",
            "linecolor": "white",
            "ticks": ""
           },
           "baxis": {
            "gridcolor": "white",
            "linecolor": "white",
            "ticks": ""
           },
           "bgcolor": "#E5ECF6",
           "caxis": {
            "gridcolor": "white",
            "linecolor": "white",
            "ticks": ""
           }
          },
          "title": {
           "x": 0.05
          },
          "xaxis": {
           "automargin": true,
           "gridcolor": "white",
           "linecolor": "white",
           "ticks": "",
           "title": {
            "standoff": 15
           },
           "zerolinecolor": "white",
           "zerolinewidth": 2
          },
          "yaxis": {
           "automargin": true,
           "gridcolor": "white",
           "linecolor": "white",
           "ticks": "",
           "title": {
            "standoff": 15
           },
           "zerolinecolor": "white",
           "zerolinewidth": 2
          }
         }
        },
        "title": {
         "text": "Amount of Vessels vs Amount of Inland Fish Catches in 2010"
        },
        "xaxis": {
         "anchor": "y",
         "domain": [
          0,
          1
         ],
         "tickangle": 45,
         "title": {
          "text": "Amount of vessels"
         },
         "type": "log"
        },
        "yaxis": {
         "anchor": "x",
         "domain": [
          0,
          1
         ],
         "title": {
          "text": "Amount of catches"
         },
         "type": "log"
        }
       }
      }
     },
     "metadata": {},
     "output_type": "display_data"
    },
    {
     "name": "stdout",
     "output_type": "stream",
     "text": [
      "Correlation Coefficient: \n",
      "                        absolute_value_boat  absolute_value_inland\n",
      "absolute_value_boat               1.000000               0.864841\n",
      "absolute_value_inland             0.864841               1.000000\n"
     ]
    }
   ],
   "source": [
    "# Functions:\n",
    "# Function for Bar Chart\n",
    "def create_casual_chart(data, title, year_filter):\n",
    "\n",
    "    # set Filter to 2010\n",
    "    filtered_Data = data[data['timePeriod'] == year_filter]\n",
    "\n",
    "    # Scatter Plot using plotly.express\n",
    "    fig = px.bar(filtered_Data, x='country', y='absolute_value', \n",
    "                    title=title,\n",
    "                    labels={'Time_Period': 'Time Period (Years)', 'absolute_value': 'Amount of vessels'})\n",
    "    # logahritmic scale:\n",
    "    fig.update_yaxes(type='log')\n",
    "    fig.update_layout(\n",
    "        xaxis=dict(tickangle=45)  # Rotates x-axis labels by 45 degrees\n",
    "    )\n",
    "    # Show the plot\n",
    "    fig.show()\n",
    "\n",
    "# Determining continent:\n",
    "def load_countries(file):\n",
    "    with open(file, 'r') as file:\n",
    "        countries = file.read().splitlines()\n",
    "    return countries\n",
    "\n",
    "def sort_Continent(countries):\n",
    "    # Sorting Countries to Continents\n",
    "    asia_list = load_countries('asia.txt')\n",
    "    europe_list = load_countries('europe.txt')\n",
    "    america_list = load_countries('america.txt')\n",
    "    australia_list = load_countries('australia.txt')\n",
    "    southAmerica_list = load_countries('southAmerica.txt')\n",
    "    continent = []\n",
    "    for country in countries:\n",
    "        if country in europe_list:\n",
    "            continent.append('Europe')\n",
    "        elif country in asia_list:\n",
    "            continent.append('Asia')\n",
    "        elif country in america_list:\n",
    "            continent.append('America')\n",
    "        elif country in australia_list:\n",
    "            continent.append('Australia')\n",
    "        elif country in southAmerica_list:\n",
    "            continent.append('South America')\n",
    "        else:\n",
    "            continent.append('Unknown')\n",
    "    return continent\n",
    "\n",
    "\n",
    "# Initializing of CSV & DataFrames\n",
    "FishBoats = pd.read_csv('Fish_Boote.csv')\n",
    "FishInland = pd.read_csv('Fish_Inland.csv')\n",
    "\n",
    "# FISH BOATS\n",
    "# transfering mentionable values into lists\n",
    "boat_referenceArea = FishBoats['Reference area'].tolist()\n",
    "boat_timePeriod = FishBoats['TIME_PERIOD'].tolist()\n",
    "boat_obsValue = FishBoats['OBS_VALUE'].tolist()\n",
    "\n",
    "# Creating DataFrame\n",
    "boat_Data = pd.DataFrame({\n",
    "    'country': boat_referenceArea,\n",
    "    'absolute_value': boat_obsValue,\n",
    "    'timePeriod': boat_timePeriod\n",
    "})\n",
    "# FISH INLAND\n",
    "\n",
    "# Transfering mentionable values into lists\n",
    "inland_referenceArea = FishInland['Reference area'].tolist()\n",
    "inland_timePeriod = FishInland['TIME_PERIOD'].tolist()\n",
    "inland_obsValue = FishInland['OBS_VALUE'].tolist()\n",
    "\n",
    "# Creating DataFrame\n",
    "inland_Data = pd.DataFrame({\n",
    "    'country': inland_referenceArea,\n",
    "    'absolute_value': inland_obsValue,\n",
    "    'timePeriod': inland_timePeriod\n",
    "})\n",
    "\n",
    "\n",
    "# Create chart for Boats\n",
    "#create_casual_chart(boat_Data,\"Scatter Plot of amount of fishing vessels in each Country for 2010\",2010)\n",
    "# Create chart for catches\n",
    "#create_casual_chart(inland_Data,\"Scatter Plot of amount of fishing vessels in each Country for 2010\",2010)\n",
    "\n",
    "# Mixed Scatter Plot\n",
    "\n",
    "# finding common countries & time:\n",
    "common_countries = set(boat_Data['country']).intersection(inland_Data['country'])\n",
    "common_time = set(boat_Data[boat_Data[\"country\"].isin(common_countries)]['timePeriod']\n",
    "                    ).intersection(inland_Data[inland_Data[\"country\"].isin(common_countries)]['timePeriod'])\n",
    "\n",
    "# Creating a full index of common countries and time periods\n",
    "full_index = pd.MultiIndex.from_product(\n",
    "    [common_countries, common_time], names=[\"country\", \"timePeriod\"]\n",
    ")\n",
    "\n",
    "# Reindexing both datasets and filling missing values with 0\n",
    "boat_Data_final = (\n",
    "    boat_Data.set_index([\"country\", \"timePeriod\"])\n",
    "    .reindex(full_index)\n",
    "    .fillna(0)\n",
    "    .reset_index()\n",
    ")\n",
    "inland_Data_final = (\n",
    "    inland_Data.set_index([\"country\", \"timePeriod\"])\n",
    "    .reindex(full_index)\n",
    "    .fillna(0)\n",
    "    .reset_index()\n",
    ")\n",
    "\n",
    "# Merging the two DataFrames\n",
    "combined_data = pd.merge(\n",
    "    boat_Data_final, \n",
    "    inland_Data_final, \n",
    "    on=[\"country\", \"timePeriod\"], \n",
    "    suffixes=(\"_boat\", \"_inland\")  # Add suffixes to distinguish columns\n",
    ")\n",
    "\n",
    "\n",
    "combined_data['continent'] = sort_Continent(combined_data['country'].tolist())\n",
    "\n",
    "\n",
    "# Filter to 2010\n",
    "combined_data_timefiltered = combined_data[combined_data['timePeriod'] == 2010]\n",
    "\n",
    " # Scatter Plot using plotly.express\n",
    "fig = px.scatter(\n",
    "    combined_data_timefiltered, \n",
    "    x='absolute_value_boat', \n",
    "    y='absolute_value_inland', \n",
    "    title=\"Amount of Vessels vs Amount of Inland Fish Catches in 2010\",\n",
    "    labels={'absolute_value_boat': 'Amount of vessels', 'absolute_value_inland': 'Amount of catches'},\n",
    "    color='continent',\n",
    "    hover_data={\n",
    "        'continent': False,\n",
    "        'country': True,  # Show the country name\n",
    "        'timePeriod': False,  # Hide the time period\n",
    "        'absolute_value_boat': True,  # Show boats value\n",
    "        'absolute_value_inland': True  # Show inland value\n",
    "    }\n",
    "    )\n",
    "\n",
    "# logahritmic scale:\n",
    "fig.update_yaxes(type='log')\n",
    "fig.update_xaxes(type='log')\n",
    "fig.update_layout(\n",
    "    xaxis=dict(tickangle=45)  # Rotates x-axis labels by 45 degrees\n",
    " )\n",
    "# Show the plot\n",
    "fig.show()\n",
    "\n",
    "\n",
    "\n",
    "# Correlation Coefficient Matrix\n",
    "correlation_data = pd.DataFrame({\n",
    "    'absolute_value_boat': combined_data_timefiltered['absolute_value_boat'],\n",
    "    'absolute_value_inland': combined_data_timefiltered['absolute_value_inland']\n",
    "})\n",
    "print(f\"Correlation Coefficient: \\n {correlation_data.corr()}\")\n"
   ]
  },
  {
   "cell_type": "code",
   "execution_count": null,
   "metadata": {},
   "outputs": [],
   "source": []
  }
 ],
 "metadata": {
  "kernelspec": {
   "display_name": "Python 3",
   "language": "python",
   "name": "python3"
  },
  "language_info": {
   "codemirror_mode": {
    "name": "ipython",
    "version": 3
   },
   "file_extension": ".py",
   "mimetype": "text/x-python",
   "name": "python",
   "nbconvert_exporter": "python",
   "pygments_lexer": "ipython3",
   "version": "3.10.12"
  }
 },
 "nbformat": 4,
 "nbformat_minor": 2
}
