{
 "cells": [
  {
   "cell_type": "code",
   "execution_count": null,
   "metadata": {},
   "outputs": [],
   "source": [
    "################################################################################\n",
    "# Author 1:      Firstname Lastname\n",
    "# MatNr 1:       01234567\n",
    "# Author 2:      Firstname Lastname\n",
    "# MatNr 2:       01234567\n",
    "# Author 3:      Jakob Marktl\n",
    "# MatNr 3:       12335939\n",
    "# File:          assignment2.ipynb\n",
    "# Description: ... short description of the file ...\n",
    "# Comments:    ... comments for the tutors ...\n",
    "#              ... can be multiline ...\n",
    "################################################################################"
   ]
  },
  {
   "cell_type": "code",
   "execution_count": 1,
   "metadata": {},
   "outputs": [],
   "source": [
    "import pandas as pd\n",
    "import matplotlib.pyplot as plt\n",
    "import plotly.express as px\n",
    "import numpy as np\n",
    "import pycountry\n",
    "import pycountry_convert"
   ]
  },
  {
   "cell_type": "markdown",
   "metadata": {},
   "source": [
    "Alles in einem File, programmieren\n",
    "\n",
    "Robert:"
   ]
  },
  {
   "cell_type": "code",
   "execution_count": null,
   "metadata": {},
   "outputs": [],
   "source": []
  },
  {
   "cell_type": "markdown",
   "metadata": {},
   "source": [
    "David:"
   ]
  },
  {
   "cell_type": "code",
   "execution_count": 1,
   "metadata": {},
   "outputs": [
    {
     "name": "stdout",
     "output_type": "stream",
     "text": [
      "David hat was gemacht\n"
     ]
    }
   ],
   "source": [
    "print(\"David hat was gemacht\")"
   ]
  },
  {
   "cell_type": "markdown",
   "metadata": {},
   "source": [
    "Jakob:"
   ]
  },
  {
   "cell_type": "code",
   "execution_count": 38,
   "metadata": {},
   "outputs": [
    {
     "name": "stdout",
     "output_type": "stream",
     "text": [
      "     country  timePeriod  absolute_value_boat  absolute_value_inland\n",
      "0    Türkiye        2016              15663.0                33370.0\n",
      "1    Türkiye        2017              15406.0                31598.0\n",
      "2    Türkiye        2018              15352.0                29652.0\n",
      "3    Türkiye        2019              15315.0                31142.0\n",
      "4    Türkiye        2020              15302.0                32829.0\n",
      "..       ...         ...                  ...                    ...\n",
      "475     Peru        2011                  0.0                36766.0\n",
      "476     Peru        2012                  0.0                33601.0\n",
      "477     Peru        2013                  0.0                27301.0\n",
      "478     Peru        2014                  0.0                24682.0\n",
      "479     Peru        2015                  0.0                37499.0\n",
      "\n",
      "[480 rows x 4 columns]\n"
     ]
    },
    {
     "data": {
      "application/vnd.plotly.v1+json": {
       "config": {
        "plotlyServerURL": "https://plot.ly"
       },
       "data": [
        {
         "hovertemplate": "country=Türkiye<br>Amount of vessels=%{x}<br>Amount of catches=%{y}<extra></extra>",
         "legendgroup": "Türkiye",
         "marker": {
          "color": "#636efa",
          "symbol": "circle"
         },
         "mode": "markers",
         "name": "Türkiye",
         "orientation": "v",
         "showlegend": true,
         "type": "scatter",
         "x": [
          17440
         ],
         "xaxis": "x",
         "y": [
          39479
         ],
         "yaxis": "y"
        },
        {
         "hovertemplate": "country=Austria<br>Amount of vessels=%{x}<br>Amount of catches=%{y}<extra></extra>",
         "legendgroup": "Austria",
         "marker": {
          "color": "#EF553B",
          "symbol": "circle"
         },
         "mode": "markers",
         "name": "Austria",
         "orientation": "v",
         "showlegend": true,
         "type": "scatter",
         "x": [
          190
         ],
         "xaxis": "x",
         "y": [
          350
         ],
         "yaxis": "y"
        },
        {
         "hovertemplate": "country=Belgium<br>Amount of vessels=%{x}<br>Amount of catches=%{y}<extra></extra>",
         "legendgroup": "Belgium",
         "marker": {
          "color": "#00cc96",
          "symbol": "circle"
         },
         "mode": "markers",
         "name": "Belgium",
         "orientation": "v",
         "showlegend": true,
         "type": "scatter",
         "x": [
          89
         ],
         "xaxis": "x",
         "y": [
          511
         ],
         "yaxis": "y"
        },
        {
         "hovertemplate": "country=France<br>Amount of vessels=%{x}<br>Amount of catches=%{y}<extra></extra>",
         "legendgroup": "France",
         "marker": {
          "color": "#ab63fa",
          "symbol": "circle"
         },
         "mode": "markers",
         "name": "France",
         "orientation": "v",
         "showlegend": true,
         "type": "scatter",
         "x": [
          7216
         ],
         "xaxis": "x",
         "y": [
          1950
         ],
         "yaxis": "y"
        },
        {
         "hovertemplate": "country=Italy<br>Amount of vessels=%{x}<br>Amount of catches=%{y}<extra></extra>",
         "legendgroup": "Italy",
         "marker": {
          "color": "#FFA15A",
          "symbol": "circle"
         },
         "mode": "markers",
         "name": "Italy",
         "orientation": "v",
         "showlegend": true,
         "type": "scatter",
         "x": [
          13431
         ],
         "xaxis": "x",
         "y": [
          3852
         ],
         "yaxis": "y"
        },
        {
         "hovertemplate": "country=Viet Nam<br>Amount of vessels=%{x}<br>Amount of catches=%{y}<extra></extra>",
         "legendgroup": "Viet Nam",
         "marker": {
          "color": "#19d3f3",
          "symbol": "circle"
         },
         "mode": "markers",
         "name": "Viet Nam",
         "orientation": "v",
         "showlegend": true,
         "type": "scatter",
         "x": [
          128538
         ],
         "xaxis": "x",
         "y": [
          182655
         ],
         "yaxis": "y"
        },
        {
         "hovertemplate": "country=Australia<br>Amount of vessels=%{x}<br>Amount of catches=%{y}<extra></extra>",
         "legendgroup": "Australia",
         "marker": {
          "color": "#FF6692",
          "symbol": "circle"
         },
         "mode": "markers",
         "name": "Australia",
         "orientation": "v",
         "showlegend": true,
         "type": "scatter",
         "x": [
          318
         ],
         "xaxis": "x",
         "y": [
          1376
         ],
         "yaxis": "y"
        },
        {
         "hovertemplate": "country=Sweden<br>Amount of vessels=%{x}<br>Amount of catches=%{y}<extra></extra>",
         "legendgroup": "Sweden",
         "marker": {
          "color": "#B6E880",
          "symbol": "circle"
         },
         "mode": "markers",
         "name": "Sweden",
         "orientation": "v",
         "showlegend": true,
         "type": "scatter",
         "x": [
          1360
         ],
         "xaxis": "x",
         "y": [
          1368
         ],
         "yaxis": "y"
        },
        {
         "hovertemplate": "country=Thailand<br>Amount of vessels=%{x}<br>Amount of catches=%{y}<extra></extra>",
         "legendgroup": "Thailand",
         "marker": {
          "color": "#FF97FF",
          "symbol": "circle"
         },
         "mode": "markers",
         "name": "Thailand",
         "orientation": "v",
         "showlegend": true,
         "type": "scatter",
         "x": [
          15381
         ],
         "xaxis": "x",
         "y": [
          209300
         ],
         "yaxis": "y"
        },
        {
         "hovertemplate": "country=Estonia<br>Amount of vessels=%{x}<br>Amount of catches=%{y}<extra></extra>",
         "legendgroup": "Estonia",
         "marker": {
          "color": "#FECB52",
          "symbol": "circle"
         },
         "mode": "markers",
         "name": "Estonia",
         "orientation": "v",
         "showlegend": true,
         "type": "scatter",
         "x": [
          934
         ],
         "xaxis": "x",
         "y": [
          2869
         ],
         "yaxis": "y"
        },
        {
         "hovertemplate": "country=Poland<br>Amount of vessels=%{x}<br>Amount of catches=%{y}<extra></extra>",
         "legendgroup": "Poland",
         "marker": {
          "color": "#636efa",
          "symbol": "circle"
         },
         "mode": "markers",
         "name": "Poland",
         "orientation": "v",
         "showlegend": true,
         "type": "scatter",
         "x": [
          793
         ],
         "xaxis": "x",
         "y": [
          18508
         ],
         "yaxis": "y"
        },
        {
         "hovertemplate": "country=Colombia<br>Amount of vessels=%{x}<br>Amount of catches=%{y}<extra></extra>",
         "legendgroup": "Colombia",
         "marker": {
          "color": "#EF553B",
          "symbol": "circle"
         },
         "mode": "markers",
         "name": "Colombia",
         "orientation": "v",
         "showlegend": true,
         "type": "scatter",
         "x": [
          158
         ],
         "xaxis": "x",
         "y": [
          21049
         ],
         "yaxis": "y"
        },
        {
         "hovertemplate": "country=Korea<br>Amount of vessels=%{x}<br>Amount of catches=%{y}<extra></extra>",
         "legendgroup": "Korea",
         "marker": {
          "color": "#00cc96",
          "symbol": "circle"
         },
         "mode": "markers",
         "name": "Korea",
         "orientation": "v",
         "showlegend": true,
         "type": "scatter",
         "x": [
          76974
         ],
         "xaxis": "x",
         "y": [
          10256
         ],
         "yaxis": "y"
        },
        {
         "hovertemplate": "country=Netherlands<br>Amount of vessels=%{x}<br>Amount of catches=%{y}<extra></extra>",
         "legendgroup": "Netherlands",
         "marker": {
          "color": "#ab63fa",
          "symbol": "circle"
         },
         "mode": "markers",
         "name": "Netherlands",
         "orientation": "v",
         "showlegend": true,
         "type": "scatter",
         "x": [
          846
         ],
         "xaxis": "x",
         "y": [
          2051
         ],
         "yaxis": "y"
        },
        {
         "hovertemplate": "country=New Zealand<br>Amount of vessels=%{x}<br>Amount of catches=%{y}<extra></extra>",
         "legendgroup": "New Zealand",
         "marker": {
          "color": "#FFA15A",
          "symbol": "circle"
         },
         "mode": "markers",
         "name": "New Zealand",
         "orientation": "v",
         "showlegend": true,
         "type": "scatter",
         "x": [
          1401
         ],
         "xaxis": "x",
         "y": [
          892
         ],
         "yaxis": "y"
        },
        {
         "hovertemplate": "country=Slovenia<br>Amount of vessels=%{x}<br>Amount of catches=%{y}<extra></extra>",
         "legendgroup": "Slovenia",
         "marker": {
          "color": "#19d3f3",
          "symbol": "circle"
         },
         "mode": "markers",
         "name": "Slovenia",
         "orientation": "v",
         "showlegend": true,
         "type": "scatter",
         "x": [
          182
         ],
         "xaxis": "x",
         "y": [
          169
         ],
         "yaxis": "y"
        },
        {
         "hovertemplate": "country=Japan<br>Amount of vessels=%{x}<br>Amount of catches=%{y}<extra></extra>",
         "legendgroup": "Japan",
         "marker": {
          "color": "#FF6692",
          "symbol": "circle"
         },
         "mode": "markers",
         "name": "Japan",
         "orientation": "v",
         "showlegend": true,
         "type": "scatter",
         "x": [
          292822
         ],
         "xaxis": "x",
         "y": [
          39576
         ],
         "yaxis": "y"
        },
        {
         "hovertemplate": "country=Spain<br>Amount of vessels=%{x}<br>Amount of catches=%{y}<extra></extra>",
         "legendgroup": "Spain",
         "marker": {
          "color": "#B6E880",
          "symbol": "circle"
         },
         "mode": "markers",
         "name": "Spain",
         "orientation": "v",
         "showlegend": true,
         "type": "scatter",
         "x": [
          10855
         ],
         "xaxis": "x",
         "y": [
          6000
         ],
         "yaxis": "y"
        },
        {
         "hovertemplate": "country=Indonesia<br>Amount of vessels=%{x}<br>Amount of catches=%{y}<extra></extra>",
         "legendgroup": "Indonesia",
         "marker": {
          "color": "#FF97FF",
          "symbol": "circle"
         },
         "mode": "markers",
         "name": "Indonesia",
         "orientation": "v",
         "showlegend": true,
         "type": "scatter",
         "x": [
          739932
         ],
         "xaxis": "x",
         "y": [
          341393
         ],
         "yaxis": "y"
        },
        {
         "hovertemplate": "country=United Kingdom<br>Amount of vessels=%{x}<br>Amount of catches=%{y}<extra></extra>",
         "legendgroup": "United Kingdom",
         "marker": {
          "color": "#FECB52",
          "symbol": "circle"
         },
         "mode": "markers",
         "name": "United Kingdom",
         "orientation": "v",
         "showlegend": true,
         "type": "scatter",
         "x": [
          6460
         ],
         "xaxis": "x",
         "y": [
          2473
         ],
         "yaxis": "y"
        },
        {
         "hovertemplate": "country=Argentina<br>Amount of vessels=%{x}<br>Amount of catches=%{y}<extra></extra>",
         "legendgroup": "Argentina",
         "marker": {
          "color": "#636efa",
          "symbol": "circle"
         },
         "mode": "markers",
         "name": "Argentina",
         "orientation": "v",
         "showlegend": true,
         "type": "scatter",
         "x": [
          1090
         ],
         "xaxis": "x",
         "y": [
          15445
         ],
         "yaxis": "y"
        },
        {
         "hovertemplate": "country=Costa Rica<br>Amount of vessels=%{x}<br>Amount of catches=%{y}<extra></extra>",
         "legendgroup": "Costa Rica",
         "marker": {
          "color": "#EF553B",
          "symbol": "circle"
         },
         "mode": "markers",
         "name": "Costa Rica",
         "orientation": "v",
         "showlegend": true,
         "type": "scatter",
         "x": [
          5035
         ],
         "xaxis": "x",
         "y": [
          100
         ],
         "yaxis": "y"
        },
        {
         "hovertemplate": "country=Latvia<br>Amount of vessels=%{x}<br>Amount of catches=%{y}<extra></extra>",
         "legendgroup": "Latvia",
         "marker": {
          "color": "#00cc96",
          "symbol": "circle"
         },
         "mode": "markers",
         "name": "Latvia",
         "orientation": "v",
         "showlegend": true,
         "type": "scatter",
         "x": [
          786
         ],
         "xaxis": "x",
         "y": [
          329
         ],
         "yaxis": "y"
        },
        {
         "hovertemplate": "country=Lithuania<br>Amount of vessels=%{x}<br>Amount of catches=%{y}<extra></extra>",
         "legendgroup": "Lithuania",
         "marker": {
          "color": "#ab63fa",
          "symbol": "circle"
         },
         "mode": "markers",
         "name": "Lithuania",
         "orientation": "v",
         "showlegend": true,
         "type": "scatter",
         "x": [
          171
         ],
         "xaxis": "x",
         "y": [
          1310
         ],
         "yaxis": "y"
        },
        {
         "hovertemplate": "country=Portugal<br>Amount of vessels=%{x}<br>Amount of catches=%{y}<extra></extra>",
         "legendgroup": "Portugal",
         "marker": {
          "color": "#FFA15A",
          "symbol": "circle"
         },
         "mode": "markers",
         "name": "Portugal",
         "orientation": "v",
         "showlegend": true,
         "type": "scatter",
         "x": [
          8425
         ],
         "xaxis": "x",
         "y": [
          1
         ],
         "yaxis": "y"
        },
        {
         "hovertemplate": "country=China (People’s Republic of)<br>Amount of vessels=%{x}<br>Amount of catches=%{y}<extra></extra>",
         "legendgroup": "China (People’s Republic of)",
         "marker": {
          "color": "#19d3f3",
          "symbol": "circle"
         },
         "mode": "markers",
         "name": "China (People’s Republic of)",
         "orientation": "v",
         "showlegend": true,
         "type": "scatter",
         "x": [
          1065645
         ],
         "xaxis": "x",
         "y": [
          2080560
         ],
         "yaxis": "y"
        },
        {
         "hovertemplate": "country=Denmark<br>Amount of vessels=%{x}<br>Amount of catches=%{y}<extra></extra>",
         "legendgroup": "Denmark",
         "marker": {
          "color": "#FF6692",
          "symbol": "circle"
         },
         "mode": "markers",
         "name": "Denmark",
         "orientation": "v",
         "showlegend": true,
         "type": "scatter",
         "x": [
          2820
         ],
         "xaxis": "x",
         "y": [
          114
         ],
         "yaxis": "y"
        },
        {
         "hovertemplate": "country=Iceland<br>Amount of vessels=%{x}<br>Amount of catches=%{y}<extra></extra>",
         "legendgroup": "Iceland",
         "marker": {
          "color": "#B6E880",
          "symbol": "circle"
         },
         "mode": "markers",
         "name": "Iceland",
         "orientation": "v",
         "showlegend": true,
         "type": "scatter",
         "x": [
          1375
         ],
         "xaxis": "x",
         "y": [
          260
         ],
         "yaxis": "y"
        },
        {
         "hovertemplate": "country=Germany<br>Amount of vessels=%{x}<br>Amount of catches=%{y}<extra></extra>",
         "legendgroup": "Germany",
         "marker": {
          "color": "#FF97FF",
          "symbol": "circle"
         },
         "mode": "markers",
         "name": "Germany",
         "orientation": "v",
         "showlegend": true,
         "type": "scatter",
         "x": [
          1673
         ],
         "xaxis": "x",
         "y": [
          15010
         ],
         "yaxis": "y"
        },
        {
         "hovertemplate": "country=United States<br>Amount of vessels=%{x}<br>Amount of catches=%{y}<extra></extra>",
         "legendgroup": "United States",
         "marker": {
          "color": "#FECB52",
          "symbol": "circle"
         },
         "mode": "markers",
         "name": "United States",
         "orientation": "v",
         "showlegend": true,
         "type": "scatter",
         "x": [
          77695
         ],
         "xaxis": "x",
         "y": [
          21171
         ],
         "yaxis": "y"
        },
        {
         "hovertemplate": "country=Chinese Taipei<br>Amount of vessels=%{x}<br>Amount of catches=%{y}<extra></extra>",
         "legendgroup": "Chinese Taipei",
         "marker": {
          "color": "#636efa",
          "symbol": "circle"
         },
         "mode": "markers",
         "name": "Chinese Taipei",
         "orientation": "v",
         "showlegend": true,
         "type": "scatter",
         "x": [
          23782
         ],
         "xaxis": "x",
         "y": [
          77
         ],
         "yaxis": "y"
        },
        {
         "hovertemplate": "country=Brazil<br>Amount of vessels=%{x}<br>Amount of catches=%{y}<extra></extra>",
         "legendgroup": "Brazil",
         "marker": {
          "color": "#EF553B",
          "symbol": "circle"
         },
         "mode": "markers",
         "name": "Brazil",
         "orientation": "v",
         "showlegend": true,
         "type": "scatter",
         "x": [
          1326
         ],
         "xaxis": "x",
         "y": [
          248122
         ],
         "yaxis": "y"
        },
        {
         "hovertemplate": "country=Norway<br>Amount of vessels=%{x}<br>Amount of catches=%{y}<extra></extra>",
         "legendgroup": "Norway",
         "marker": {
          "color": "#00cc96",
          "symbol": "circle"
         },
         "mode": "markers",
         "name": "Norway",
         "orientation": "v",
         "showlegend": true,
         "type": "scatter",
         "x": [
          6310
         ],
         "xaxis": "x",
         "y": [
          437
         ],
         "yaxis": "y"
        },
        {
         "hovertemplate": "country=Greece<br>Amount of vessels=%{x}<br>Amount of catches=%{y}<extra></extra>",
         "legendgroup": "Greece",
         "marker": {
          "color": "#ab63fa",
          "symbol": "circle"
         },
         "mode": "markers",
         "name": "Greece",
         "orientation": "v",
         "showlegend": true,
         "type": "scatter",
         "x": [
          16913
         ],
         "xaxis": "x",
         "y": [
          940
         ],
         "yaxis": "y"
        },
        {
         "hovertemplate": "country=Ireland<br>Amount of vessels=%{x}<br>Amount of catches=%{y}<extra></extra>",
         "legendgroup": "Ireland",
         "marker": {
          "color": "#FFA15A",
          "symbol": "circle"
         },
         "mode": "markers",
         "name": "Ireland",
         "orientation": "v",
         "showlegend": true,
         "type": "scatter",
         "x": [
          2144
         ],
         "xaxis": "x",
         "y": [
          116
         ],
         "yaxis": "y"
        },
        {
         "hovertemplate": "country=Mexico<br>Amount of vessels=%{x}<br>Amount of catches=%{y}<extra></extra>",
         "legendgroup": "Mexico",
         "marker": {
          "color": "#19d3f3",
          "symbol": "circle"
         },
         "mode": "markers",
         "name": "Mexico",
         "orientation": "v",
         "showlegend": true,
         "type": "scatter",
         "x": [
          94111
         ],
         "xaxis": "x",
         "y": [
          115732
         ],
         "yaxis": "y"
        },
        {
         "hovertemplate": "country=Chile<br>Amount of vessels=%{x}<br>Amount of catches=%{y}<extra></extra>",
         "legendgroup": "Chile",
         "marker": {
          "color": "#FF6692",
          "symbol": "circle"
         },
         "mode": "markers",
         "name": "Chile",
         "orientation": "v",
         "showlegend": true,
         "type": "scatter",
         "x": [
          7815
         ],
         "xaxis": "x",
         "y": [
          0
         ],
         "yaxis": "y"
        },
        {
         "hovertemplate": "country=Finland<br>Amount of vessels=%{x}<br>Amount of catches=%{y}<extra></extra>",
         "legendgroup": "Finland",
         "marker": {
          "color": "#B6E880",
          "symbol": "circle"
         },
         "mode": "markers",
         "name": "Finland",
         "orientation": "v",
         "showlegend": true,
         "type": "scatter",
         "x": [
          3366
         ],
         "xaxis": "x",
         "y": [
          28874
         ],
         "yaxis": "y"
        },
        {
         "hovertemplate": "country=Canada<br>Amount of vessels=%{x}<br>Amount of catches=%{y}<extra></extra>",
         "legendgroup": "Canada",
         "marker": {
          "color": "#FF97FF",
          "symbol": "circle"
         },
         "mode": "markers",
         "name": "Canada",
         "orientation": "v",
         "showlegend": true,
         "type": "scatter",
         "x": [
          19906
         ],
         "xaxis": "x",
         "y": [
          27385
         ],
         "yaxis": "y"
        },
        {
         "hovertemplate": "country=Peru<br>Amount of vessels=%{x}<br>Amount of catches=%{y}<extra></extra>",
         "legendgroup": "Peru",
         "marker": {
          "color": "#FECB52",
          "symbol": "circle"
         },
         "mode": "markers",
         "name": "Peru",
         "orientation": "v",
         "showlegend": true,
         "type": "scatter",
         "x": [
          0
         ],
         "xaxis": "x",
         "y": [
          44368
         ],
         "yaxis": "y"
        }
       ],
       "layout": {
        "legend": {
         "title": {
          "text": "country"
         },
         "tracegroupgap": 0
        },
        "template": {
         "data": {
          "bar": [
           {
            "error_x": {
             "color": "#2a3f5f"
            },
            "error_y": {
             "color": "#2a3f5f"
            },
            "marker": {
             "line": {
              "color": "#E5ECF6",
              "width": 0.5
             },
             "pattern": {
              "fillmode": "overlay",
              "size": 10,
              "solidity": 0.2
             }
            },
            "type": "bar"
           }
          ],
          "barpolar": [
           {
            "marker": {
             "line": {
              "color": "#E5ECF6",
              "width": 0.5
             },
             "pattern": {
              "fillmode": "overlay",
              "size": 10,
              "solidity": 0.2
             }
            },
            "type": "barpolar"
           }
          ],
          "carpet": [
           {
            "aaxis": {
             "endlinecolor": "#2a3f5f",
             "gridcolor": "white",
             "linecolor": "white",
             "minorgridcolor": "white",
             "startlinecolor": "#2a3f5f"
            },
            "baxis": {
             "endlinecolor": "#2a3f5f",
             "gridcolor": "white",
             "linecolor": "white",
             "minorgridcolor": "white",
             "startlinecolor": "#2a3f5f"
            },
            "type": "carpet"
           }
          ],
          "choropleth": [
           {
            "colorbar": {
             "outlinewidth": 0,
             "ticks": ""
            },
            "type": "choropleth"
           }
          ],
          "contour": [
           {
            "colorbar": {
             "outlinewidth": 0,
             "ticks": ""
            },
            "colorscale": [
             [
              0,
              "#0d0887"
             ],
             [
              0.1111111111111111,
              "#46039f"
             ],
             [
              0.2222222222222222,
              "#7201a8"
             ],
             [
              0.3333333333333333,
              "#9c179e"
             ],
             [
              0.4444444444444444,
              "#bd3786"
             ],
             [
              0.5555555555555556,
              "#d8576b"
             ],
             [
              0.6666666666666666,
              "#ed7953"
             ],
             [
              0.7777777777777778,
              "#fb9f3a"
             ],
             [
              0.8888888888888888,
              "#fdca26"
             ],
             [
              1,
              "#f0f921"
             ]
            ],
            "type": "contour"
           }
          ],
          "contourcarpet": [
           {
            "colorbar": {
             "outlinewidth": 0,
             "ticks": ""
            },
            "type": "contourcarpet"
           }
          ],
          "heatmap": [
           {
            "colorbar": {
             "outlinewidth": 0,
             "ticks": ""
            },
            "colorscale": [
             [
              0,
              "#0d0887"
             ],
             [
              0.1111111111111111,
              "#46039f"
             ],
             [
              0.2222222222222222,
              "#7201a8"
             ],
             [
              0.3333333333333333,
              "#9c179e"
             ],
             [
              0.4444444444444444,
              "#bd3786"
             ],
             [
              0.5555555555555556,
              "#d8576b"
             ],
             [
              0.6666666666666666,
              "#ed7953"
             ],
             [
              0.7777777777777778,
              "#fb9f3a"
             ],
             [
              0.8888888888888888,
              "#fdca26"
             ],
             [
              1,
              "#f0f921"
             ]
            ],
            "type": "heatmap"
           }
          ],
          "heatmapgl": [
           {
            "colorbar": {
             "outlinewidth": 0,
             "ticks": ""
            },
            "colorscale": [
             [
              0,
              "#0d0887"
             ],
             [
              0.1111111111111111,
              "#46039f"
             ],
             [
              0.2222222222222222,
              "#7201a8"
             ],
             [
              0.3333333333333333,
              "#9c179e"
             ],
             [
              0.4444444444444444,
              "#bd3786"
             ],
             [
              0.5555555555555556,
              "#d8576b"
             ],
             [
              0.6666666666666666,
              "#ed7953"
             ],
             [
              0.7777777777777778,
              "#fb9f3a"
             ],
             [
              0.8888888888888888,
              "#fdca26"
             ],
             [
              1,
              "#f0f921"
             ]
            ],
            "type": "heatmapgl"
           }
          ],
          "histogram": [
           {
            "marker": {
             "pattern": {
              "fillmode": "overlay",
              "size": 10,
              "solidity": 0.2
             }
            },
            "type": "histogram"
           }
          ],
          "histogram2d": [
           {
            "colorbar": {
             "outlinewidth": 0,
             "ticks": ""
            },
            "colorscale": [
             [
              0,
              "#0d0887"
             ],
             [
              0.1111111111111111,
              "#46039f"
             ],
             [
              0.2222222222222222,
              "#7201a8"
             ],
             [
              0.3333333333333333,
              "#9c179e"
             ],
             [
              0.4444444444444444,
              "#bd3786"
             ],
             [
              0.5555555555555556,
              "#d8576b"
             ],
             [
              0.6666666666666666,
              "#ed7953"
             ],
             [
              0.7777777777777778,
              "#fb9f3a"
             ],
             [
              0.8888888888888888,
              "#fdca26"
             ],
             [
              1,
              "#f0f921"
             ]
            ],
            "type": "histogram2d"
           }
          ],
          "histogram2dcontour": [
           {
            "colorbar": {
             "outlinewidth": 0,
             "ticks": ""
            },
            "colorscale": [
             [
              0,
              "#0d0887"
             ],
             [
              0.1111111111111111,
              "#46039f"
             ],
             [
              0.2222222222222222,
              "#7201a8"
             ],
             [
              0.3333333333333333,
              "#9c179e"
             ],
             [
              0.4444444444444444,
              "#bd3786"
             ],
             [
              0.5555555555555556,
              "#d8576b"
             ],
             [
              0.6666666666666666,
              "#ed7953"
             ],
             [
              0.7777777777777778,
              "#fb9f3a"
             ],
             [
              0.8888888888888888,
              "#fdca26"
             ],
             [
              1,
              "#f0f921"
             ]
            ],
            "type": "histogram2dcontour"
           }
          ],
          "mesh3d": [
           {
            "colorbar": {
             "outlinewidth": 0,
             "ticks": ""
            },
            "type": "mesh3d"
           }
          ],
          "parcoords": [
           {
            "line": {
             "colorbar": {
              "outlinewidth": 0,
              "ticks": ""
             }
            },
            "type": "parcoords"
           }
          ],
          "pie": [
           {
            "automargin": true,
            "type": "pie"
           }
          ],
          "scatter": [
           {
            "fillpattern": {
             "fillmode": "overlay",
             "size": 10,
             "solidity": 0.2
            },
            "type": "scatter"
           }
          ],
          "scatter3d": [
           {
            "line": {
             "colorbar": {
              "outlinewidth": 0,
              "ticks": ""
             }
            },
            "marker": {
             "colorbar": {
              "outlinewidth": 0,
              "ticks": ""
             }
            },
            "type": "scatter3d"
           }
          ],
          "scattercarpet": [
           {
            "marker": {
             "colorbar": {
              "outlinewidth": 0,
              "ticks": ""
             }
            },
            "type": "scattercarpet"
           }
          ],
          "scattergeo": [
           {
            "marker": {
             "colorbar": {
              "outlinewidth": 0,
              "ticks": ""
             }
            },
            "type": "scattergeo"
           }
          ],
          "scattergl": [
           {
            "marker": {
             "colorbar": {
              "outlinewidth": 0,
              "ticks": ""
             }
            },
            "type": "scattergl"
           }
          ],
          "scattermapbox": [
           {
            "marker": {
             "colorbar": {
              "outlinewidth": 0,
              "ticks": ""
             }
            },
            "type": "scattermapbox"
           }
          ],
          "scatterpolar": [
           {
            "marker": {
             "colorbar": {
              "outlinewidth": 0,
              "ticks": ""
             }
            },
            "type": "scatterpolar"
           }
          ],
          "scatterpolargl": [
           {
            "marker": {
             "colorbar": {
              "outlinewidth": 0,
              "ticks": ""
             }
            },
            "type": "scatterpolargl"
           }
          ],
          "scatterternary": [
           {
            "marker": {
             "colorbar": {
              "outlinewidth": 0,
              "ticks": ""
             }
            },
            "type": "scatterternary"
           }
          ],
          "surface": [
           {
            "colorbar": {
             "outlinewidth": 0,
             "ticks": ""
            },
            "colorscale": [
             [
              0,
              "#0d0887"
             ],
             [
              0.1111111111111111,
              "#46039f"
             ],
             [
              0.2222222222222222,
              "#7201a8"
             ],
             [
              0.3333333333333333,
              "#9c179e"
             ],
             [
              0.4444444444444444,
              "#bd3786"
             ],
             [
              0.5555555555555556,
              "#d8576b"
             ],
             [
              0.6666666666666666,
              "#ed7953"
             ],
             [
              0.7777777777777778,
              "#fb9f3a"
             ],
             [
              0.8888888888888888,
              "#fdca26"
             ],
             [
              1,
              "#f0f921"
             ]
            ],
            "type": "surface"
           }
          ],
          "table": [
           {
            "cells": {
             "fill": {
              "color": "#EBF0F8"
             },
             "line": {
              "color": "white"
             }
            },
            "header": {
             "fill": {
              "color": "#C8D4E3"
             },
             "line": {
              "color": "white"
             }
            },
            "type": "table"
           }
          ]
         },
         "layout": {
          "annotationdefaults": {
           "arrowcolor": "#2a3f5f",
           "arrowhead": 0,
           "arrowwidth": 1
          },
          "autotypenumbers": "strict",
          "coloraxis": {
           "colorbar": {
            "outlinewidth": 0,
            "ticks": ""
           }
          },
          "colorscale": {
           "diverging": [
            [
             0,
             "#8e0152"
            ],
            [
             0.1,
             "#c51b7d"
            ],
            [
             0.2,
             "#de77ae"
            ],
            [
             0.3,
             "#f1b6da"
            ],
            [
             0.4,
             "#fde0ef"
            ],
            [
             0.5,
             "#f7f7f7"
            ],
            [
             0.6,
             "#e6f5d0"
            ],
            [
             0.7,
             "#b8e186"
            ],
            [
             0.8,
             "#7fbc41"
            ],
            [
             0.9,
             "#4d9221"
            ],
            [
             1,
             "#276419"
            ]
           ],
           "sequential": [
            [
             0,
             "#0d0887"
            ],
            [
             0.1111111111111111,
             "#46039f"
            ],
            [
             0.2222222222222222,
             "#7201a8"
            ],
            [
             0.3333333333333333,
             "#9c179e"
            ],
            [
             0.4444444444444444,
             "#bd3786"
            ],
            [
             0.5555555555555556,
             "#d8576b"
            ],
            [
             0.6666666666666666,
             "#ed7953"
            ],
            [
             0.7777777777777778,
             "#fb9f3a"
            ],
            [
             0.8888888888888888,
             "#fdca26"
            ],
            [
             1,
             "#f0f921"
            ]
           ],
           "sequentialminus": [
            [
             0,
             "#0d0887"
            ],
            [
             0.1111111111111111,
             "#46039f"
            ],
            [
             0.2222222222222222,
             "#7201a8"
            ],
            [
             0.3333333333333333,
             "#9c179e"
            ],
            [
             0.4444444444444444,
             "#bd3786"
            ],
            [
             0.5555555555555556,
             "#d8576b"
            ],
            [
             0.6666666666666666,
             "#ed7953"
            ],
            [
             0.7777777777777778,
             "#fb9f3a"
            ],
            [
             0.8888888888888888,
             "#fdca26"
            ],
            [
             1,
             "#f0f921"
            ]
           ]
          },
          "colorway": [
           "#636efa",
           "#EF553B",
           "#00cc96",
           "#ab63fa",
           "#FFA15A",
           "#19d3f3",
           "#FF6692",
           "#B6E880",
           "#FF97FF",
           "#FECB52"
          ],
          "font": {
           "color": "#2a3f5f"
          },
          "geo": {
           "bgcolor": "white",
           "lakecolor": "white",
           "landcolor": "#E5ECF6",
           "showlakes": true,
           "showland": true,
           "subunitcolor": "white"
          },
          "hoverlabel": {
           "align": "left"
          },
          "hovermode": "closest",
          "mapbox": {
           "style": "light"
          },
          "paper_bgcolor": "white",
          "plot_bgcolor": "#E5ECF6",
          "polar": {
           "angularaxis": {
            "gridcolor": "white",
            "linecolor": "white",
            "ticks": ""
           },
           "bgcolor": "#E5ECF6",
           "radialaxis": {
            "gridcolor": "white",
            "linecolor": "white",
            "ticks": ""
           }
          },
          "scene": {
           "xaxis": {
            "backgroundcolor": "#E5ECF6",
            "gridcolor": "white",
            "gridwidth": 2,
            "linecolor": "white",
            "showbackground": true,
            "ticks": "",
            "zerolinecolor": "white"
           },
           "yaxis": {
            "backgroundcolor": "#E5ECF6",
            "gridcolor": "white",
            "gridwidth": 2,
            "linecolor": "white",
            "showbackground": true,
            "ticks": "",
            "zerolinecolor": "white"
           },
           "zaxis": {
            "backgroundcolor": "#E5ECF6",
            "gridcolor": "white",
            "gridwidth": 2,
            "linecolor": "white",
            "showbackground": true,
            "ticks": "",
            "zerolinecolor": "white"
           }
          },
          "shapedefaults": {
           "line": {
            "color": "#2a3f5f"
           }
          },
          "ternary": {
           "aaxis": {
            "gridcolor": "white",
            "linecolor": "white",
            "ticks": ""
           },
           "baxis": {
            "gridcolor": "white",
            "linecolor": "white",
            "ticks": ""
           },
           "bgcolor": "#E5ECF6",
           "caxis": {
            "gridcolor": "white",
            "linecolor": "white",
            "ticks": ""
           }
          },
          "title": {
           "x": 0.05
          },
          "xaxis": {
           "automargin": true,
           "gridcolor": "white",
           "linecolor": "white",
           "ticks": "",
           "title": {
            "standoff": 15
           },
           "zerolinecolor": "white",
           "zerolinewidth": 2
          },
          "yaxis": {
           "automargin": true,
           "gridcolor": "white",
           "linecolor": "white",
           "ticks": "",
           "title": {
            "standoff": 15
           },
           "zerolinecolor": "white",
           "zerolinewidth": 2
          }
         }
        },
        "title": {
         "text": "Amount of Vessels vs Amount of Inland Fish Catches in 2010"
        },
        "xaxis": {
         "anchor": "y",
         "domain": [
          0,
          1
         ],
         "tickangle": 45,
         "title": {
          "text": "Amount of vessels"
         },
         "type": "log"
        },
        "yaxis": {
         "anchor": "x",
         "domain": [
          0,
          1
         ],
         "title": {
          "text": "Amount of catches"
         },
         "type": "log"
        }
       }
      }
     },
     "metadata": {},
     "output_type": "display_data"
    }
   ],
   "source": [
    "FishBoats = pd.read_csv('Fish_Boote.csv')\n",
    "FishInland = pd.read_csv('Fish_Inland.csv')\n",
    "\n",
    "# FISH BOATS\n",
    "# transfering mentionable values into lists\n",
    "boat_referenceArea = FishBoatsSorted['Reference area'].tolist()\n",
    "boat_timePeriod = FishBoatsSorted['TIME_PERIOD'].tolist()\n",
    "boat_obsValue = FishBoatsSorted['OBS_VALUE'].tolist()\n",
    "\n",
    "# Creating DataFrame\n",
    "boat_Data = pd.DataFrame({\n",
    "    'country': boat_referenceArea,\n",
    "    'absolute_value': boat_obsValue,\n",
    "    'timePeriod': boat_timePeriod\n",
    "})\n",
    "# FISH INLAND\n",
    "\n",
    "# Transfering mentionable values into lists\n",
    "inland_referenceArea = FishInlandsorted['Reference area'].tolist()\n",
    "inland_timePeriod = FishInlandsorted['TIME_PERIOD'].tolist()\n",
    "inland_obsValue = FishInlandsorted['OBS_VALUE'].tolist()\n",
    "\n",
    "# Creating DataFrame\n",
    "inland_Data = pd.DataFrame({\n",
    "    'country': inland_referenceArea,\n",
    "    'absolute_value': inland_obsValue,\n",
    "    'timePeriod': inland_timePeriod\n",
    "})\n",
    "\n",
    "# Function for Bar Chart\n",
    "def create_casual_chart(data, title, year_filter):\n",
    "\n",
    "    # set Filter to 2010\n",
    "    filtered_Data = data[data['timePeriod'] == year_filter]\n",
    "\n",
    "    # Scatter Plot using plotly.express\n",
    "    fig = px.bar(filtered_Data, x='country', y='absolute_value', \n",
    "                    title=title,\n",
    "                    labels={'Time_Period': 'Time Period (Years)', 'absolute_value': 'Amount of vessels'})\n",
    "    # logahritmic scale:\n",
    "    fig.update_yaxes(type='log')\n",
    "    fig.update_layout(\n",
    "        xaxis=dict(tickangle=45)  # Rotates x-axis labels by 45 degrees\n",
    "    )\n",
    "    # Show the plot\n",
    "    fig.show()\n",
    "\n",
    "# Create chart for Boats\n",
    "#create_casual_chart(boat_Data,\"Scatter Plot of amount of fishing vessels in each Country for 2010\",2010)\n",
    "# Create chart for catches\n",
    "#create_casual_chart(inland_Data,\"Scatter Plot of amount of fishing vessels in each Country for 2010\",2010)\n",
    "\n",
    "\n",
    "\n",
    "\n",
    "# Mixed Scatter Plot\n",
    "\n",
    "# finding common countries & time:\n",
    "\n",
    "common_countries = set(boat_Data['country']).intersection(inland_Data['country'])\n",
    "common_time = set(boat_Data[boat_Data[\"country\"].isin(common_countries)]['timePeriod']\n",
    "                    ).intersection(inland_Data[inland_Data[\"country\"].isin(common_countries)]['timePeriod'])\n",
    "\n",
    "# Creating a full index of common countries and time periods\n",
    "full_index = pd.MultiIndex.from_product(\n",
    "    [common_countries, common_time], names=[\"country\", \"timePeriod\"]\n",
    ")\n",
    "\n",
    "# Reindexing both datasets and filling missing values with 0\n",
    "boat_Data_aligned = (\n",
    "    boat_Data_final.set_index([\"country\", \"timePeriod\"])\n",
    "    .reindex(full_index)\n",
    "    .fillna(0)\n",
    "    .reset_index()\n",
    ")\n",
    "inland_Data_aligned = (\n",
    "    inland_Data_final.set_index([\"country\", \"timePeriod\"])\n",
    "    .reindex(full_index)\n",
    "    .fillna(0)\n",
    "    .reset_index()\n",
    ")\n",
    "\n",
    "# Merging the two DataFrames\n",
    "combined_data = pd.merge(\n",
    "    boat_Data_aligned, \n",
    "    inland_Data_aligned, \n",
    "    on=[\"country\", \"timePeriod\"], \n",
    "    suffixes=(\"_boat\", \"_inland\")  # Add suffixes to distinguish columns\n",
    ")\n",
    "print(combined_data)\n",
    "\n",
    "combined_data_timefiltered = combined_data[combined_data['timePeriod'] == 2010]\n",
    "\n",
    " # Scatter Plot using plotly.express\n",
    "fig = px.scatter(\n",
    "    combined_data_timefiltered, \n",
    "    x='absolute_value_boat', \n",
    "    y='absolute_value_inland', \n",
    "    title=\"Amount of Vessels vs Amount of Inland Fish Catches in 2010\",\n",
    "    labels={'timePeriod': 'Time Period (Years)', 'absolute_value_boat': 'Amount of vessels', 'absolute_value_inland': 'Amount of catches'},\n",
    "    color='country'\n",
    "    )\n",
    "# logahritmic scale:\n",
    "fig.update_yaxes(type='log')\n",
    "fig.update_xaxes(type='log')\n",
    "fig.update_layout(\n",
    "    xaxis=dict(tickangle=45)  # Rotates x-axis labels by 45 degrees\n",
    " )\n",
    "# Show the plot\n",
    "fig.show()\n"
   ]
  }
 ],
 "metadata": {
  "kernelspec": {
   "display_name": "Python 3",
   "language": "python",
   "name": "python3"
  },
  "language_info": {
   "codemirror_mode": {
    "name": "ipython",
    "version": 3
   },
   "file_extension": ".py",
   "mimetype": "text/x-python",
   "name": "python",
   "nbconvert_exporter": "python",
   "pygments_lexer": "ipython3",
   "version": "3.10.12"
  }
 },
 "nbformat": 4,
 "nbformat_minor": 2
}
